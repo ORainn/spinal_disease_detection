{
 "cells": [
  {
   "cell_type": "code",
   "execution_count": 13,
   "metadata": {},
   "outputs": [],
   "source": [
    "import os\n",
    "import math\n",
    "import sys\n",
    "import torch\n",
    "import numpy as np\n",
    "import matplotlib.pyplot as plt\n",
    "import torchvision.models as tm\n",
    "import torchvision.transforms.functional as tf\n",
    "from torchvision.models.detection.backbone_utils import resnet_fpn_backbone\n",
    "from torch.utils.data import DataLoader\n",
    "from PIL import Image\n",
    "from tqdm import tqdm\n",
    "import transformers\n",
    "%matplotlib inline\n",
    "sys.path.append('../code')\n",
    "sys.path.append('../../nn_tools/')\n",
    "\n",
    "from core.data_utils import read_dcms, get_spacing, read_annotation, SPINAL_DISC_ID, SPINAL_VERTEBRA_ID, rotate_point\n",
    "from core.visilization import visilize_annotation, visilize_distmap, visilize_coord\n",
    "from core.key_point import KeyPointAcc, KeyPointDataLoader, NullLoss, SpinalModelBase, KeyPointModel, KeyPointModelV2\n",
    "from core.key_point import KeyPointBCELossV2, SpinalModel, KeyPointBCELoss, distance_distribution\n",
    "from nn_tools import torch_utils"
   ]
  },
  {
   "cell_type": "code",
   "execution_count": 2,
   "metadata": {},
   "outputs": [
    {
     "name": "stderr",
     "output_type": "stream",
     "text": [
      "100%|##########| 8360/8360 [00:32<00:00, 256.57it/s]\n",
      "100%|##########| 2826/2826 [00:11<00:00, 238.17it/s]\n"
     ]
    }
   ],
   "source": [
    "train_images, train_metainfos = read_dcms('../data/lumbar_train150/')\n",
    "valid_images, valid_metainfos = read_dcms('../data/train/')\n",
    "\n",
    "train_spacings = get_spacing(train_metainfos)\n",
    "valid_spacings = get_spacing(valid_metainfos)"
   ]
  },
  {
   "cell_type": "code",
   "execution_count": 3,
   "metadata": {
    "scrolled": true
   },
   "outputs": [
    {
     "name": "stdout",
     "output_type": "stream",
     "text": [
      "{'T11-T12': 1}\n"
     ]
    }
   ],
   "source": [
    "train_annotation = read_annotation('../data/lumbar_train150_annotation.json')\n",
    "valid_annotation = read_annotation('../data/lumbar_train51_annotation.json')\n",
    "valid_annotation = {k: v for k, v in valid_annotation.items() if k in valid_images}"
   ]
  },
  {
   "cell_type": "code",
   "execution_count": 4,
   "metadata": {},
   "outputs": [],
   "source": [
    "# all_pixels = [tf.to_tensor(image).flatten() for image in train_images.values()]\n",
    "# all_pixels = torch.cat(all_pixels, dim=0)\n",
    "# torch.save(all_pixels, 'all_pixels')"
   ]
  },
  {
   "cell_type": "code",
   "execution_count": 5,
   "metadata": {},
   "outputs": [],
   "source": [
    "# all_pixels = torch.load('all_pixels')\n",
    "# all_pixels = torch.cat([-all_pixels, all_pixels], dim=0)\n",
    "# all_pixels.std()"
   ]
  },
  {
   "cell_type": "raw",
   "metadata": {},
   "source": [
    "0.1580, 0.1781\n",
    "0.2370"
   ]
  },
  {
   "cell_type": "code",
   "execution_count": 14,
   "metadata": {},
   "outputs": [
    {
     "name": "stderr",
     "output_type": "stream",
     "text": [
      "100%|##########| 150/150 [00:00<00:00, 30920.80it/s]\n",
      "100%|##########| 50/50 [00:00<00:00, 26372.64it/s]\n"
     ]
    }
   ],
   "source": [
    "train_pk_dataloader = KeyPointDataLoader(\n",
    "    train_images, train_spacings, train_annotation, batch_size=8, num_workers=3,\n",
    "    prob_rotate=1, max_angel=180, num_rep=20, prob_reverse=0, size=[512, 512],\n",
    "    pin_memory=False\n",
    ")\n",
    "valid_pk_dataloader = KeyPointDataLoader(\n",
    "    valid_images, valid_spacings, valid_annotation, batch_size=1, num_workers=3,\n",
    "    prob_rotate=0, max_angel=45, num_rep=100, prob_reverse=0, size=[512, 512],\n",
    "    pin_memory=False\n",
    ")\n",
    "generator = iter(valid_pk_dataloader)"
   ]
  },
  {
   "cell_type": "code",
   "execution_count": 7,
   "metadata": {
    "scrolled": true
   },
   "outputs": [
    {
     "name": "stderr",
     "output_type": "stream",
     "text": [
      "../code/core/key_point/model.py:42: UserWarning: To copy construct from a tensor, it is recommended to use sourceTensor.clone().detach() or sourceTensor.clone().detach().requires_grad_(True), rather than torch.tensor(sourceTensor).\n",
      "  self.register_buffer('pixel_mean', torch.tensor(pixel_mean))\n",
      "../code/core/key_point/model.py:43: UserWarning: To copy construct from a tensor, it is recommended to use sourceTensor.clone().detach() or sourceTensor.clone().detach().requires_grad_(True), rather than torch.tensor(sourceTensor).\n",
      "  self.register_buffer('pixel_std', torch.tensor(pixel_std))\n"
     ]
    },
    {
     "data": {
      "text/plain": [
       "<All keys matched successfully>"
      ]
     },
     "execution_count": 7,
     "metadata": {},
     "output_type": "execute_result"
    }
   ],
   "source": [
    "# kp_model = torch.load('../models/size512_rotate1_180_AdamW_1e-5.kp_model', map_location='cuda:0')\n",
    "# kp_model.set_spinal_model(SpinalModelBase())\n",
    "backbone = resnet_fpn_backbone('resnet50', True)\n",
    "spinal_model = SpinalModel(train_images, train_annotation,\n",
    "                           num_candidates=128, num_selected_templates=8,\n",
    "                           max_translation=0.05, scale_range=[0.9, 1.1], max_angel=10)\n",
    "kp_model = KeyPointModelV2(backbone, len(SPINAL_VERTEBRA_ID), len(SPINAL_DISC_ID),\n",
    "                         pixel_mean=torch.tensor(0.5), pixel_std=torch.tensor(1), dropout=0,\n",
    "                         loss=KeyPointBCELossV2(lamb=1), spinal_model=spinal_model, loss_scaler=100,\n",
    "                           num_cascades=2\n",
    "                          ).cuda(0)\n",
    "temp = torch.load('../models/size512_rotate1_180_AdamW_1e-5.kp_model', map_location='cuda:0')\n",
    "kp_model.backbone.load_state_dict(temp.backbone.state_dict())\n",
    "kp_model.fc.load_state_dict(temp.fc.state_dict())\n",
    "# kp_model = torch.nn.DataParallel(kp_model, device_ids=[0, 1])"
   ]
  },
  {
   "cell_type": "code",
   "execution_count": 8,
   "metadata": {},
   "outputs": [],
   "source": [
    "# dir_path = '../models/'\n",
    "# for model_name in os.listdir(dir_path):\n",
    "#     if 'kp_model' in model_name:\n",
    "#         model_name = os.path.join(dir_path, model_name)\n",
    "#         temp = torch.load(model_name)\n",
    "#         kp_model.load_state_dict(temp.state_dict())\n",
    "#         torch.save(kp_model.cpu(), model_name)\n",
    "#         del temp"
   ]
  },
  {
   "cell_type": "code",
   "execution_count": 9,
   "metadata": {
    "scrolled": true
   },
   "outputs": [],
   "source": [
    "# with torch.no_grad():\n",
    "#     batch = next(generator)\n",
    "#     temp.train()\n",
    "#     loss = temp(*batch[0])\n",
    "#     print(loss)\n",
    "#     kp_model.train()\n",
    "#     print(kp_model(*batch[0]))\n",
    "#     print(torch_utils.evaluate(kp_model, valid_pk_dataloader, [KeyPointAcc(8)]))"
   ]
  },
  {
   "cell_type": "code",
   "execution_count": 10,
   "metadata": {
    "scrolled": true
   },
   "outputs": [
    {
     "name": "stdout",
     "output_type": "stream",
     "text": [
      "using NullLoss as training loss, using KeyPointAcc(higher is better) as early stopping metric\n"
     ]
    },
    {
     "name": "stderr",
     "output_type": "stream",
     "text": [
      "100%|##########| 375/375 [01:36<00:00,  3.88it/s]\n",
      "100%|##########| 1000/1000 [00:32<00:00, 30.51it/s]\n"
     ]
    },
    {
     "name": "stdout",
     "output_type": "stream",
     "text": [
      "step 375 train NullLoss: 0.30023840069770813\n",
      "valid KeyPointAcc: 0.535727322101593\n"
     ]
    },
    {
     "name": "stderr",
     "output_type": "stream",
     "text": [
      "100%|##########| 375/375 [01:37<00:00,  3.86it/s]\n",
      "100%|##########| 1000/1000 [00:32<00:00, 30.46it/s]\n"
     ]
    },
    {
     "name": "stdout",
     "output_type": "stream",
     "text": [
      "step 750 train NullLoss: 0.08934228867292404\n",
      "valid KeyPointAcc: 0.5933636426925659\n"
     ]
    },
    {
     "name": "stderr",
     "output_type": "stream",
     "text": [
      "100%|##########| 375/375 [01:36<00:00,  3.88it/s]\n",
      "100%|##########| 1000/1000 [00:32<00:00, 30.56it/s]\n"
     ]
    },
    {
     "name": "stdout",
     "output_type": "stream",
     "text": [
      "step 1125 train NullLoss: 0.07160323113203049\n",
      "valid KeyPointAcc: 0.6321819424629211\n"
     ]
    },
    {
     "name": "stderr",
     "output_type": "stream",
     "text": [
      "100%|##########| 375/375 [01:36<00:00,  3.88it/s]\n",
      "100%|##########| 1000/1000 [00:32<00:00, 30.60it/s]\n"
     ]
    },
    {
     "name": "stdout",
     "output_type": "stream",
     "text": [
      "step 1500 train NullLoss: 0.06617479026317596\n",
      "valid KeyPointAcc: 0.6877272129058838\n"
     ]
    },
    {
     "name": "stderr",
     "output_type": "stream",
     "text": [
      "100%|##########| 375/375 [01:36<00:00,  3.88it/s]\n",
      "100%|##########| 1000/1000 [00:32<00:00, 30.38it/s]\n"
     ]
    },
    {
     "name": "stdout",
     "output_type": "stream",
     "text": [
      "step 1875 train NullLoss: 0.06020128354430199\n",
      "valid KeyPointAcc: 0.720090925693512\n"
     ]
    },
    {
     "name": "stderr",
     "output_type": "stream",
     "text": [
      "100%|##########| 375/375 [01:36<00:00,  3.88it/s]\n",
      "100%|##########| 1000/1000 [00:32<00:00, 30.48it/s]\n"
     ]
    },
    {
     "name": "stdout",
     "output_type": "stream",
     "text": [
      "step 2250 train NullLoss: 0.05304740369319916\n",
      "valid KeyPointAcc: 0.7431818246841431\n"
     ]
    },
    {
     "name": "stderr",
     "output_type": "stream",
     "text": [
      "100%|##########| 375/375 [01:36<00:00,  3.88it/s]\n",
      "100%|##########| 1000/1000 [00:32<00:00, 30.53it/s]\n"
     ]
    },
    {
     "name": "stdout",
     "output_type": "stream",
     "text": [
      "step 2625 train NullLoss: 0.050450026988983154\n",
      "valid KeyPointAcc: 0.7090910077095032\n"
     ]
    },
    {
     "name": "stderr",
     "output_type": "stream",
     "text": [
      "100%|##########| 375/375 [01:36<00:00,  3.87it/s]\n",
      "100%|##########| 1000/1000 [00:32<00:00, 30.89it/s]\n"
     ]
    },
    {
     "name": "stdout",
     "output_type": "stream",
     "text": [
      "step 3000 train NullLoss: 0.05133911594748497\n",
      "valid KeyPointAcc: 0.7480001449584961\n"
     ]
    },
    {
     "name": "stderr",
     "output_type": "stream",
     "text": [
      "100%|##########| 375/375 [01:36<00:00,  3.89it/s]\n",
      "100%|##########| 1000/1000 [00:32<00:00, 30.88it/s]\n"
     ]
    },
    {
     "name": "stdout",
     "output_type": "stream",
     "text": [
      "step 3375 train NullLoss: 0.049025580286979675\n",
      "valid KeyPointAcc: 0.7382727265357971\n"
     ]
    },
    {
     "name": "stderr",
     "output_type": "stream",
     "text": [
      "100%|##########| 375/375 [01:36<00:00,  3.88it/s]\n",
      "100%|##########| 1000/1000 [00:32<00:00, 30.63it/s]\n"
     ]
    },
    {
     "name": "stdout",
     "output_type": "stream",
     "text": [
      "step 3750 train NullLoss: 0.051777906715869904\n",
      "valid KeyPointAcc: 0.7556363940238953\n"
     ]
    },
    {
     "name": "stderr",
     "output_type": "stream",
     "text": [
      "100%|##########| 375/375 [01:36<00:00,  3.87it/s]\n",
      "100%|##########| 1000/1000 [00:32<00:00, 30.70it/s]\n"
     ]
    },
    {
     "name": "stdout",
     "output_type": "stream",
     "text": [
      "step 4125 train NullLoss: 0.05746270343661308\n",
      "valid KeyPointAcc: 0.770545482635498\n"
     ]
    },
    {
     "name": "stderr",
     "output_type": "stream",
     "text": [
      "100%|##########| 375/375 [01:37<00:00,  3.85it/s]\n",
      "100%|##########| 1000/1000 [00:32<00:00, 30.43it/s]\n"
     ]
    },
    {
     "name": "stdout",
     "output_type": "stream",
     "text": [
      "step 4500 train NullLoss: 0.04863910377025604\n",
      "valid KeyPointAcc: 0.7758182287216187\n"
     ]
    },
    {
     "name": "stderr",
     "output_type": "stream",
     "text": [
      "100%|##########| 375/375 [01:37<00:00,  3.86it/s]\n",
      "100%|##########| 1000/1000 [00:32<00:00, 30.50it/s]\n"
     ]
    },
    {
     "name": "stdout",
     "output_type": "stream",
     "text": [
      "step 4875 train NullLoss: 0.04512600228190422\n",
      "valid KeyPointAcc: 0.7925453782081604\n"
     ]
    },
    {
     "name": "stderr",
     "output_type": "stream",
     "text": [
      "100%|##########| 375/375 [01:36<00:00,  3.88it/s]\n",
      "100%|##########| 1000/1000 [00:33<00:00, 29.92it/s]\n"
     ]
    },
    {
     "name": "stdout",
     "output_type": "stream",
     "text": [
      "step 5250 train NullLoss: 0.044092047959566116\n",
      "valid KeyPointAcc: 0.770545482635498\n"
     ]
    },
    {
     "name": "stderr",
     "output_type": "stream",
     "text": [
      "100%|##########| 375/375 [01:37<00:00,  3.86it/s]\n",
      "100%|##########| 1000/1000 [00:32<00:00, 30.39it/s]\n"
     ]
    },
    {
     "name": "stdout",
     "output_type": "stream",
     "text": [
      "step 5625 train NullLoss: 0.04629746079444885\n",
      "valid KeyPointAcc: 0.7903636693954468\n"
     ]
    },
    {
     "name": "stderr",
     "output_type": "stream",
     "text": [
      "100%|##########| 375/375 [01:37<00:00,  3.86it/s]\n",
      "100%|##########| 1000/1000 [00:32<00:00, 30.55it/s]\n"
     ]
    },
    {
     "name": "stdout",
     "output_type": "stream",
     "text": [
      "step 6000 train NullLoss: 0.04397740215063095\n",
      "valid KeyPointAcc: 0.80472731590271\n"
     ]
    },
    {
     "name": "stderr",
     "output_type": "stream",
     "text": [
      "100%|##########| 375/375 [01:36<00:00,  3.87it/s]\n",
      "100%|##########| 1000/1000 [00:32<00:00, 30.73it/s]\n"
     ]
    },
    {
     "name": "stdout",
     "output_type": "stream",
     "text": [
      "step 6375 train NullLoss: 0.04433312639594078\n",
      "valid KeyPointAcc: 0.7586362957954407\n"
     ]
    },
    {
     "name": "stderr",
     "output_type": "stream",
     "text": [
      "100%|##########| 375/375 [01:36<00:00,  3.87it/s]\n",
      "100%|##########| 1000/1000 [00:32<00:00, 30.73it/s]\n"
     ]
    },
    {
     "name": "stdout",
     "output_type": "stream",
     "text": [
      "step 6750 train NullLoss: 0.05137695372104645\n",
      "valid KeyPointAcc: 0.8314546346664429\n"
     ]
    },
    {
     "name": "stderr",
     "output_type": "stream",
     "text": [
      "100%|##########| 375/375 [01:36<00:00,  3.88it/s]\n",
      "100%|##########| 1000/1000 [00:32<00:00, 30.60it/s]\n"
     ]
    },
    {
     "name": "stdout",
     "output_type": "stream",
     "text": [
      "step 7125 train NullLoss: 0.038399405777454376\n",
      "valid KeyPointAcc: 0.8264545798301697\n"
     ]
    },
    {
     "name": "stderr",
     "output_type": "stream",
     "text": [
      "100%|##########| 375/375 [01:37<00:00,  3.86it/s]\n",
      "100%|##########| 1000/1000 [00:33<00:00, 30.18it/s]\n"
     ]
    },
    {
     "name": "stdout",
     "output_type": "stream",
     "text": [
      "step 7500 train NullLoss: 0.04390057921409607\n",
      "valid KeyPointAcc: 0.8105455040931702\n"
     ]
    },
    {
     "name": "stderr",
     "output_type": "stream",
     "text": [
      "100%|##########| 375/375 [01:38<00:00,  3.82it/s]\n",
      "100%|##########| 1000/1000 [00:30<00:00, 32.32it/s]\n"
     ]
    },
    {
     "name": "stdout",
     "output_type": "stream",
     "text": [
      "step 7875 train NullLoss: 0.037095241248607635\n",
      "valid KeyPointAcc: 0.828000009059906\n"
     ]
    },
    {
     "name": "stderr",
     "output_type": "stream",
     "text": [
      "100%|##########| 375/375 [01:34<00:00,  3.95it/s]\n",
      "100%|##########| 1000/1000 [00:25<00:00, 38.93it/s]\n"
     ]
    },
    {
     "name": "stdout",
     "output_type": "stream",
     "text": [
      "step 8250 train NullLoss: 0.037404872477054596\n",
      "valid KeyPointAcc: 0.848454475402832\n"
     ]
    },
    {
     "name": "stderr",
     "output_type": "stream",
     "text": [
      "100%|##########| 375/375 [01:35<00:00,  3.94it/s]\n",
      "100%|##########| 1000/1000 [00:33<00:00, 29.80it/s]\n"
     ]
    },
    {
     "name": "stdout",
     "output_type": "stream",
     "text": [
      "step 8625 train NullLoss: 0.037972744554281235\n",
      "valid KeyPointAcc: 0.7978182435035706\n"
     ]
    },
    {
     "name": "stderr",
     "output_type": "stream",
     "text": [
      "100%|##########| 375/375 [01:38<00:00,  3.83it/s]\n",
      "100%|##########| 1000/1000 [00:32<00:00, 30.32it/s]\n"
     ]
    },
    {
     "name": "stdout",
     "output_type": "stream",
     "text": [
      "step 9000 train NullLoss: 0.04078035056591034\n",
      "valid KeyPointAcc: 0.8299999833106995\n"
     ]
    },
    {
     "name": "stderr",
     "output_type": "stream",
     "text": [
      "100%|##########| 375/375 [01:38<00:00,  3.82it/s]\n",
      "100%|##########| 1000/1000 [00:33<00:00, 30.28it/s]\n"
     ]
    },
    {
     "name": "stdout",
     "output_type": "stream",
     "text": [
      "step 9375 train NullLoss: 0.038883887231349945\n",
      "valid KeyPointAcc: 0.8258181810379028\n"
     ]
    },
    {
     "name": "stderr",
     "output_type": "stream",
     "text": [
      "100%|##########| 375/375 [01:38<00:00,  3.82it/s]\n",
      "100%|##########| 1000/1000 [00:33<00:00, 30.25it/s]\n"
     ]
    },
    {
     "name": "stdout",
     "output_type": "stream",
     "text": [
      "step 9750 train NullLoss: 0.04041164740920067\n",
      "valid KeyPointAcc: 0.8388181924819946\n"
     ]
    },
    {
     "name": "stderr",
     "output_type": "stream",
     "text": [
      "100%|##########| 375/375 [01:38<00:00,  3.82it/s]\n",
      "100%|##########| 1000/1000 [00:33<00:00, 29.79it/s]\n"
     ]
    },
    {
     "name": "stdout",
     "output_type": "stream",
     "text": [
      "step 10125 train NullLoss: 0.036985427141189575\n",
      "valid KeyPointAcc: 0.8590909242630005\n"
     ]
    },
    {
     "name": "stderr",
     "output_type": "stream",
     "text": [
      "100%|##########| 375/375 [01:37<00:00,  3.86it/s]\n",
      "100%|##########| 1000/1000 [00:25<00:00, 39.21it/s]\n"
     ]
    },
    {
     "name": "stdout",
     "output_type": "stream",
     "text": [
      "step 10500 train NullLoss: 0.03419710323214531\n",
      "valid KeyPointAcc: 0.8269999027252197\n"
     ]
    },
    {
     "name": "stderr",
     "output_type": "stream",
     "text": [
      "100%|##########| 375/375 [01:34<00:00,  3.95it/s]\n",
      "100%|##########| 1000/1000 [00:25<00:00, 38.70it/s]\n"
     ]
    },
    {
     "name": "stdout",
     "output_type": "stream",
     "text": [
      "step 10875 train NullLoss: 0.036212578415870667\n",
      "valid KeyPointAcc: 0.8658182621002197\n"
     ]
    },
    {
     "name": "stderr",
     "output_type": "stream",
     "text": [
      "100%|##########| 375/375 [01:34<00:00,  3.95it/s]\n",
      "100%|##########| 1000/1000 [00:25<00:00, 38.95it/s]\n"
     ]
    },
    {
     "name": "stdout",
     "output_type": "stream",
     "text": [
      "step 11250 train NullLoss: 0.041536543518304825\n",
      "valid KeyPointAcc: 0.839545488357544\n"
     ]
    },
    {
     "name": "stderr",
     "output_type": "stream",
     "text": [
      "100%|##########| 375/375 [01:34<00:00,  3.95it/s]\n",
      "100%|##########| 1000/1000 [00:25<00:00, 38.90it/s]\n"
     ]
    },
    {
     "name": "stdout",
     "output_type": "stream",
     "text": [
      "step 11625 train NullLoss: 0.033923931419849396\n",
      "valid KeyPointAcc: 0.8137272596359253\n"
     ]
    },
    {
     "name": "stderr",
     "output_type": "stream",
     "text": [
      "100%|##########| 375/375 [01:34<00:00,  3.95it/s]\n",
      "100%|##########| 1000/1000 [00:25<00:00, 39.34it/s]\n"
     ]
    },
    {
     "name": "stdout",
     "output_type": "stream",
     "text": [
      "step 12000 train NullLoss: 0.03368709981441498\n",
      "valid KeyPointAcc: 0.8583636283874512\n"
     ]
    },
    {
     "name": "stderr",
     "output_type": "stream",
     "text": [
      "100%|##########| 375/375 [01:34<00:00,  3.95it/s]\n",
      "100%|##########| 1000/1000 [00:25<00:00, 39.53it/s]\n"
     ]
    },
    {
     "name": "stdout",
     "output_type": "stream",
     "text": [
      "step 12375 train NullLoss: 0.03596081957221031\n",
      "valid KeyPointAcc: 0.8391817808151245\n"
     ]
    },
    {
     "name": "stderr",
     "output_type": "stream",
     "text": [
      "100%|##########| 375/375 [01:34<00:00,  3.95it/s]\n",
      "100%|##########| 1000/1000 [00:25<00:00, 39.26it/s]\n"
     ]
    },
    {
     "name": "stdout",
     "output_type": "stream",
     "text": [
      "step 12750 train NullLoss: 0.03856742009520531\n",
      "valid KeyPointAcc: 0.8276364207267761\n"
     ]
    }
   ],
   "source": [
    "optimizer = torch.optim.AdamW(kp_model.parameters(), lr=1e-5)\n",
    "max_step = 50*len(train_pk_dataloader)\n",
    "result = torch_utils.fit(\n",
    "    kp_model,\n",
    "    train_pk_dataloader,\n",
    "    valid_pk_dataloader,\n",
    "    optimizer,\n",
    "    max_step,\n",
    "    NullLoss(),\n",
    "    [KeyPointAcc(6)],\n",
    "    is_higher_better=True,\n",
    "    evaluate_per_steps=len(train_pk_dataloader),\n",
    "#     scheduler=scheduler,\n",
    "#     checkpoint_dir='../models',\n",
    "    early_stopping=5*len(train_pk_dataloader),\n",
    ")"
   ]
  },
  {
   "cell_type": "code",
   "execution_count": 19,
   "metadata": {
    "scrolled": true
   },
   "outputs": [],
   "source": [
    "# torch_utils.evaluate(temp, valid_pk_dataloader, [KeyPointAcc(6)])"
   ]
  },
  {
   "cell_type": "code",
   "execution_count": null,
   "metadata": {},
   "outputs": [],
   "source": [
    "dists = distance_distribution(temp.cuda(0), valid_pk_dataloader)\n",
    "plt.hist(dists.cpu(), bins=list(range(40)))"
   ]
  },
  {
   "cell_type": "code",
   "execution_count": 16,
   "metadata": {},
   "outputs": [
    {
     "name": "stderr",
     "output_type": "stream",
     "text": [
      "100%|##########| 5000/5000 [02:06<00:00, 39.55it/s]\n"
     ]
    },
    {
     "data": {
      "text/plain": [
       "[('KeyPointAcc', tensor(0.8602))]"
      ]
     },
     "execution_count": 16,
     "metadata": {},
     "output_type": "execute_result"
    }
   ],
   "source": [
    "torch_utils.evaluate(kp_model, valid_pk_dataloader, [KeyPointAcc(6)])"
   ]
  },
  {
   "cell_type": "code",
   "execution_count": 18,
   "metadata": {},
   "outputs": [
    {
     "name": "stderr",
     "output_type": "stream",
     "text": [
      "100%|##########| 5000/5000 [02:07<00:00, 39.36it/s]\n"
     ]
    },
    {
     "data": {
      "text/plain": [
       "(array([4.3980e+03, 1.0299e+04, 1.1927e+04, 9.6440e+03, 6.8270e+03,\n",
       "        4.1810e+03, 2.5040e+03, 1.6120e+03, 1.0180e+03, 5.8200e+02,\n",
       "        4.0400e+02, 2.5400e+02, 1.7000e+02, 1.2100e+02, 1.1500e+02,\n",
       "        8.7000e+01, 8.2000e+01, 3.5000e+01, 3.7000e+01, 3.8000e+01,\n",
       "        3.3000e+01, 2.7000e+01, 3.0000e+01, 2.8000e+01, 1.9000e+01,\n",
       "        2.5000e+01, 3.4000e+01, 3.5000e+01, 4.4000e+01, 5.6000e+01,\n",
       "        7.4000e+01, 9.8000e+01, 6.0000e+01, 3.3000e+01, 2.1000e+01,\n",
       "        1.1000e+01, 7.0000e+00, 9.0000e+00, 4.0000e+00]),\n",
       " array([ 0,  1,  2,  3,  4,  5,  6,  7,  8,  9, 10, 11, 12, 13, 14, 15, 16,\n",
       "        17, 18, 19, 20, 21, 22, 23, 24, 25, 26, 27, 28, 29, 30, 31, 32, 33,\n",
       "        34, 35, 36, 37, 38, 39]),\n",
       " <a list of 39 Patch objects>)"
      ]
     },
     "execution_count": 18,
     "metadata": {},
     "output_type": "execute_result"
    },
    {
     "data": {
      "image/png": "[encoded data removed]",
      "text/plain": [
       "<Figure size 432x288 with 1 Axes>"
      ]
     },
     "metadata": {
      "needs_background": "light"
     },
     "output_type": "display_data"
    }
   ],
   "source": [
    "dists = distance_distribution(kp_model, valid_pk_dataloader)\n",
    "plt.hist(dists.cpu(), bins=list(range(40)))"
   ]
  },
  {
   "cell_type": "code",
   "execution_count": 20,
   "metadata": {},
   "outputs": [],
   "source": [
    "torch.save(kp_model, '../models/20200702.kp_model_v2')"
   ]
  },
  {
   "cell_type": "code",
   "execution_count": null,
   "metadata": {},
   "outputs": [],
   "source": [
    "# kp_model = torch.load('../models/resize_rotate_reverse.kp_model')\n",
    "# test_pk_dataloader = KeyPointDataLoader(\n",
    "#     valid_images, valid_spacings, valid_annotation, batch_size=1,\n",
    "#     random_resize=True, prob_rotate=1, max_angel=45,\n",
    "# )\n",
    "# generator = iter(test_pk_dataloader)\n",
    "# torch_utils.evaluate(kp_model, test_pk_dataloader, [KeyPointAcc()])"
   ]
  },
  {
   "cell_type": "code",
   "execution_count": null,
   "metadata": {
    "scrolled": false
   },
   "outputs": [],
   "source": [
    "# batch_data, batch_label = next(generator)\n",
    "# with torch.no_grad():\n",
    "#     kp_model.eval()\n",
    "#     vertebra_coords, disc_coords, heat_maps, feature_maps = kp_model(*batch_data, return_more=True)\n",
    "# #     print(KeyPointAcc()(preds, *batch[1]))\n",
    "# visilize_coord(tf.to_pil_image(batch_data[0][0]), vertebra_coords[0])"
   ]
  },
  {
   "cell_type": "code",
   "execution_count": null,
   "metadata": {},
   "outputs": [],
   "source": [
    "# tf.to_pil_image(1 / (batch[1][0][0, 7] / 8 * math.log(2)).exp())"
   ]
  },
  {
   "cell_type": "code",
   "execution_count": null,
   "metadata": {},
   "outputs": [],
   "source": [
    "# tf.to_pil_image(heat_maps[0, 4].cpu())"
   ]
  }
 ],
 "metadata": {
  "kernelspec": {
   "display_name": "torch15",
   "language": "python",
   "name": "torch15"
  },
  "language_info": {
   "codemirror_mode": {
    "name": "ipython",
    "version": 3
   },
   "file_extension": ".py",
   "mimetype": "text/x-python",
   "name": "python",
   "nbconvert_exporter": "python",
   "pygments_lexer": "ipython3",
   "version": "3.8.3"
  }
 },
 "nbformat": 4,
 "nbformat_minor": 4
}
