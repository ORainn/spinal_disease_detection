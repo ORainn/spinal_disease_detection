{
 "cells": [
  {
   "cell_type": "code",
   "execution_count": 1,
   "metadata": {},
   "outputs": [],
   "source": [
    "import os\n",
    "import math\n",
    "import sys\n",
    "import torch\n",
    "import numpy as np\n",
    "import matplotlib.pyplot as plt\n",
    "import torchvision.models as tm\n",
    "import torchvision.transforms.functional as tf\n",
    "from torchvision.models.detection.backbone_utils import resnet_fpn_backbone\n",
    "from torch.utils.data import DataLoader\n",
    "from PIL import Image\n",
    "from tqdm import tqdm\n",
    "import transformers\n",
    "%matplotlib inline\n",
    "sys.path.append('../code')\n",
    "sys.path.append('../../nn_tools/')\n",
    "\n",
    "from core.data_utils import read_dcms, get_spacing, read_annotation, SPINAL_DISC_ID, SPINAL_VERTEBRA_ID, rotate_point\n",
    "from core.visilization import visilize_annotation, visilize_distmap\n",
    "from core.key_point import KeyPointAcc, KeyPointDataLoader, KeyPointModel, NullLoss, SpinalModelBase\n",
    "from core.key_point import KeyPointBCELossV2, SpinalModel, KeyPointModelV2, KeyPointBCELoss\n",
    "from nn_tools import torch_utils"
   ]
  },
  {
   "cell_type": "code",
   "execution_count": 3,
   "metadata": {
    "scrolled": true
   },
   "outputs": [
    {
     "name": "stderr",
     "output_type": "stream",
     "text": [
      "100%|##########| 8360/8360 [00:34<00:00, 241.49it/s]\n",
      "100%|##########| 2826/2826 [00:12<00:00, 219.06it/s]\n"
     ]
    },
    {
     "name": "stdout",
     "output_type": "stream",
     "text": [
      "1.3.6.1.4.1.28173.1.0.1.1072190 \n",
      " 1.3.6.1.4.1.28173.1.0.1.1.34320200531251 \n",
      " 1.3.6.1.4.1.28173.1.0.1.1.34320200531251.376867.5 \n",
      " {'coord': [297, 228], 'tag': {'disc': '', 'identification': 'L1-L2', 'vertebra': ''}, 'zIndex': 5}\n",
      "1.3.6.1.4.1.43960.1.1.10363147.60120337.80961 \n",
      " 1.3.6.1.4.1.43960.1.1.10363147.60120337.80961.124281.2.3 \n",
      " 1.3.6.1.4.1.43960.1.1.10363147.60120337.80961.124281.2.3.5 \n",
      " {'coord': [204, 121], 'tag': {'disc': '', 'identification': 'L1-L2', 'vertebra': ''}, 'zIndex': 4}\n",
      "{'T11-T12': 1}\n"
     ]
    }
   ],
   "source": [
    "train_images, train_metainfos = read_dcms('../data/lumbar_train150/')\n",
    "valid_images, valid_metainfos = read_dcms('../data/train/')\n",
    "\n",
    "train_spacings = get_spacing(train_metainfos)\n",
    "valid_spacings = get_spacing(valid_metainfos)\n",
    "\n",
    "train_annotation = read_annotation('../data/lumbar_train150_annotation.json')\n",
    "valid_annotation = read_annotation('../data/lumbar_train51_annotation.json')"
   ]
  },
  {
   "cell_type": "code",
   "execution_count": 4,
   "metadata": {},
   "outputs": [],
   "source": [
    "# all_pixels = [tf.to_tensor(image).flatten() for image in train_images.values()]\n",
    "# all_pixels = torch.cat(all_pixels, dim=0)\n",
    "# torch.save(all_pixels, 'all_pixels')"
   ]
  },
  {
   "cell_type": "code",
   "execution_count": 5,
   "metadata": {},
   "outputs": [],
   "source": [
    "# all_pixels = torch.load('all_pixels')\n",
    "# all_pixels = torch.cat([-all_pixels, all_pixels], dim=0)\n",
    "# all_pixels.std()"
   ]
  },
  {
   "cell_type": "raw",
   "metadata": {},
   "source": [
    "0.1580, 0.1781\n",
    "0.2370"
   ]
  },
  {
   "cell_type": "code",
   "execution_count": 6,
   "metadata": {},
   "outputs": [
    {
     "name": "stderr",
     "output_type": "stream",
     "text": [
      "100%|##########| 150/150 [00:00<00:00, 34454.85it/s]\n",
      "100%|##########| 51/51 [00:00<00:00, 35228.84it/s]\n"
     ]
    }
   ],
   "source": [
    "train_pk_dataloader = KeyPointDataLoader(\n",
    "    train_images, train_spacings, train_annotation, batch_size=8, num_workers=4,\n",
    "    prob_rotate=1, max_angel=180, num_rep=100, prob_reverse=0, size=[512, 512],\n",
    "    pin_memory=False\n",
    ")\n",
    "valid_pk_dataloader = KeyPointDataLoader(\n",
    "    valid_images, valid_spacings, valid_annotation, batch_size=1, num_workers=4,\n",
    "    prob_rotate=0, max_angel=45, num_rep=50, prob_reverse=0, size=[512, 512],\n",
    "    pin_memory=False\n",
    ")\n",
    "generator = iter(valid_pk_dataloader)"
   ]
  },
  {
   "cell_type": "code",
   "execution_count": 7,
   "metadata": {},
   "outputs": [],
   "source": [
    "# batch = next(generator)\n",
    "# visilize_distmap(batch[0][0][0], batch[1][0][0])"
   ]
  },
  {
   "cell_type": "code",
   "execution_count": 36,
   "metadata": {
    "scrolled": true
   },
   "outputs": [],
   "source": [
    "kp_model = torch.load('../models/size512_rotate0.5_180_reverse0.5_AdamW1e-5.kp_model', map_location='cuda:0')\n",
    "# kp_model.set_spinal_model(SpinalModelBase())\n",
    "# backbone = resnet_fpn_backbone('resnet50', True)\n",
    "# spinal_model = SpinalModel(train_images, train_annotation,\n",
    "#                            num_candidates=128, num_selected_templates=8,\n",
    "#                            max_translation=0.05, scale_range=[0.9, 1.1], max_angel=10)\n",
    "# kp_model = KeyPointModel(backbone, len(SPINAL_DISC_ID)+len(SPINAL_VERTEBRA_ID),\n",
    "#                          pixel_mean=torch.tensor(0.5), pixel_std=torch.tensor(1),\n",
    "#                          loss=KeyPointBCELossV2(lamb=1), spinal_model=spinal_model).cuda(0)\n",
    "\n",
    "# kp_model = torch.nn.DataParallel(kp_model, device_ids=[0, 1])"
   ]
  },
  {
   "cell_type": "code",
   "execution_count": 9,
   "metadata": {},
   "outputs": [],
   "source": [
    "# model_name = '../models/1592671248.2164028/93750.checkpoint'\n",
    "# temp = torch.load(model_name)\n",
    "# kp_model.load_state_dict(temp.state_dict())\n",
    "# torch.save(kp_model, model_name)\n",
    "# del temp"
   ]
  },
  {
   "cell_type": "code",
   "execution_count": 33,
   "metadata": {
    "scrolled": true
   },
   "outputs": [
    {
     "name": "stderr",
     "output_type": "stream",
     "text": [
      "100%|##########| 2550/2550 [00:51<00:00, 49.23it/s]"
     ]
    },
    {
     "name": "stdout",
     "output_type": "stream",
     "text": [
      "[('KeyPointAcc', tensor(0.8786))]\n"
     ]
    },
    {
     "name": "stderr",
     "output_type": "stream",
     "text": [
      "\n"
     ]
    }
   ],
   "source": [
    "with torch.no_grad():\n",
    "#     batch = next(generator)\n",
    "#     kp_model.train()\n",
    "#     loss = kp_model(*batch[0])\n",
    "    print(torch_utils.evaluate(kp_model, valid_pk_dataloader, [KeyPointAcc()]))"
   ]
  },
  {
   "cell_type": "code",
   "execution_count": 11,
   "metadata": {
    "scrolled": true
   },
   "outputs": [
    {
     "name": "stdout",
     "output_type": "stream",
     "text": [
      "using NullLoss as training loss, using KeyPointAcc(higher is better) as early stopping metric\n"
     ]
    },
    {
     "name": "stderr",
     "output_type": "stream",
     "text": [
      "100%|##########| 1875/1875 [07:32<00:00,  4.15it/s]\n",
      "100%|##########| 2040/2040 [01:43<00:00, 19.63it/s]\n"
     ]
    },
    {
     "name": "stdout",
     "output_type": "stream",
     "text": [
      "step 1875 train NullLoss: 0.1211942657828331; valid KeyPointAcc: 0.5594027042388916, \n"
     ]
    },
    {
     "name": "stderr",
     "output_type": "stream",
     "text": [
      "100%|##########| 1875/1875 [07:33<00:00,  4.14it/s]\n",
      "100%|##########| 2040/2040 [01:44<00:00, 19.58it/s]\n"
     ]
    },
    {
     "name": "stdout",
     "output_type": "stream",
     "text": [
      "step 3750 train NullLoss: 0.04531325027346611; valid KeyPointAcc: 0.7447415590286255, \n"
     ]
    },
    {
     "name": "stderr",
     "output_type": "stream",
     "text": [
      "100%|##########| 1875/1875 [07:35<00:00,  4.12it/s]\n",
      "100%|##########| 2040/2040 [01:44<00:00, 19.61it/s]\n"
     ]
    },
    {
     "name": "stdout",
     "output_type": "stream",
     "text": [
      "step 5625 train NullLoss: 0.028970662504434586; valid KeyPointAcc: 0.7452763319015503, \n"
     ]
    },
    {
     "name": "stderr",
     "output_type": "stream",
     "text": [
      "100%|##########| 1875/1875 [07:34<00:00,  4.12it/s]\n",
      "100%|##########| 2040/2040 [01:44<00:00, 19.61it/s]\n"
     ]
    },
    {
     "name": "stdout",
     "output_type": "stream",
     "text": [
      "step 7500 train NullLoss: 0.024631071835756302; valid KeyPointAcc: 0.7705880999565125, \n"
     ]
    },
    {
     "name": "stderr",
     "output_type": "stream",
     "text": [
      "100%|##########| 1875/1875 [07:36<00:00,  4.11it/s]\n",
      "100%|##########| 2040/2040 [01:44<00:00, 19.58it/s]\n"
     ]
    },
    {
     "name": "stdout",
     "output_type": "stream",
     "text": [
      "step 9375 train NullLoss: 0.023859407752752304; valid KeyPointAcc: 0.7843136787414551, \n"
     ]
    },
    {
     "name": "stderr",
     "output_type": "stream",
     "text": [
      "100%|##########| 1875/1875 [07:34<00:00,  4.12it/s]\n",
      "100%|##########| 2040/2040 [01:44<00:00, 19.57it/s]\n"
     ]
    },
    {
     "name": "stdout",
     "output_type": "stream",
     "text": [
      "step 11250 train NullLoss: 0.019207648932933807; valid KeyPointAcc: 0.7747769951820374, \n"
     ]
    },
    {
     "name": "stderr",
     "output_type": "stream",
     "text": [
      "100%|##########| 1875/1875 [07:34<00:00,  4.12it/s]\n",
      "100%|##########| 2040/2040 [01:44<00:00, 19.58it/s]\n"
     ]
    },
    {
     "name": "stdout",
     "output_type": "stream",
     "text": [
      "step 13125 train NullLoss: 0.021145574748516083; valid KeyPointAcc: 0.7817290425300598, \n"
     ]
    },
    {
     "name": "stderr",
     "output_type": "stream",
     "text": [
      "100%|##########| 1875/1875 [07:34<00:00,  4.12it/s]\n",
      "100%|##########| 2040/2040 [01:44<00:00, 19.60it/s]\n"
     ]
    },
    {
     "name": "stdout",
     "output_type": "stream",
     "text": [
      "step 15000 train NullLoss: 0.01818457618355751; valid KeyPointAcc: 0.7863636016845703, \n"
     ]
    },
    {
     "name": "stderr",
     "output_type": "stream",
     "text": [
      "100%|##########| 1875/1875 [07:34<00:00,  4.12it/s]\n",
      "100%|##########| 2040/2040 [01:44<00:00, 19.53it/s]\n"
     ]
    },
    {
     "name": "stdout",
     "output_type": "stream",
     "text": [
      "step 16875 train NullLoss: 0.016988171264529228; valid KeyPointAcc: 0.7694740295410156, \n"
     ]
    },
    {
     "name": "stderr",
     "output_type": "stream",
     "text": [
      "100%|##########| 1875/1875 [07:34<00:00,  4.12it/s]\n",
      "100%|##########| 2040/2040 [01:44<00:00, 19.52it/s]\n"
     ]
    },
    {
     "name": "stdout",
     "output_type": "stream",
     "text": [
      "step 18750 train NullLoss: 0.020730920135974884; valid KeyPointAcc: 0.7518271207809448, \n"
     ]
    },
    {
     "name": "stderr",
     "output_type": "stream",
     "text": [
      "100%|##########| 1875/1875 [07:35<00:00,  4.12it/s]\n",
      "100%|##########| 2040/2040 [01:44<00:00, 19.54it/s]\n"
     ]
    },
    {
     "name": "stdout",
     "output_type": "stream",
     "text": [
      "step 20625 train NullLoss: 0.01640099100768566; valid KeyPointAcc: 0.7534313201904297, \n"
     ]
    },
    {
     "name": "stderr",
     "output_type": "stream",
     "text": [
      "100%|##########| 1875/1875 [07:34<00:00,  4.12it/s]\n",
      "100%|##########| 2040/2040 [01:44<00:00, 19.53it/s]\n"
     ]
    },
    {
     "name": "stdout",
     "output_type": "stream",
     "text": [
      "step 22500 train NullLoss: 0.018362533301115036; valid KeyPointAcc: 0.7690730690956116, \n"
     ]
    },
    {
     "name": "stderr",
     "output_type": "stream",
     "text": [
      "100%|##########| 1875/1875 [07:34<00:00,  4.12it/s]\n",
      "100%|##########| 2040/2040 [01:44<00:00, 19.49it/s]\n"
     ]
    },
    {
     "name": "stdout",
     "output_type": "stream",
     "text": [
      "step 24375 train NullLoss: 0.016066012904047966; valid KeyPointAcc: 0.7701426148414612, \n"
     ]
    },
    {
     "name": "stderr",
     "output_type": "stream",
     "text": [
      "100%|##########| 1875/1875 [07:34<00:00,  4.12it/s]\n",
      "100%|##########| 2040/2040 [01:44<00:00, 19.54it/s]\n"
     ]
    },
    {
     "name": "stdout",
     "output_type": "stream",
     "text": [
      "step 26250 train NullLoss: 0.0176706500351429; valid KeyPointAcc: 0.7032085061073303, \n"
     ]
    },
    {
     "name": "stderr",
     "output_type": "stream",
     "text": [
      "100%|##########| 1875/1875 [07:34<00:00,  4.13it/s]\n",
      "100%|##########| 2040/2040 [01:44<00:00, 19.51it/s]\n"
     ]
    },
    {
     "name": "stdout",
     "output_type": "stream",
     "text": [
      "step 28125 train NullLoss: 0.01718253456056118; valid KeyPointAcc: 0.7502673864364624, \n"
     ]
    },
    {
     "name": "stderr",
     "output_type": "stream",
     "text": [
      "100%|##########| 1875/1875 [07:35<00:00,  4.12it/s]\n",
      "100%|##########| 2040/2040 [01:44<00:00, 19.49it/s]\n"
     ]
    },
    {
     "name": "stdout",
     "output_type": "stream",
     "text": [
      "step 30000 train NullLoss: 0.01558044645935297; valid KeyPointAcc: 0.7561052441596985, \n"
     ]
    },
    {
     "name": "stderr",
     "output_type": "stream",
     "text": [
      "100%|##########| 1875/1875 [07:34<00:00,  4.12it/s]\n",
      "100%|##########| 2040/2040 [01:44<00:00, 19.48it/s]\n"
     ]
    },
    {
     "name": "stdout",
     "output_type": "stream",
     "text": [
      "step 31875 train NullLoss: 0.016768358647823334; valid KeyPointAcc: 0.7984849214553833, \n"
     ]
    },
    {
     "name": "stderr",
     "output_type": "stream",
     "text": [
      "100%|##########| 1875/1875 [07:35<00:00,  4.12it/s]\n",
      "100%|##########| 2040/2040 [01:44<00:00, 19.52it/s]\n"
     ]
    },
    {
     "name": "stdout",
     "output_type": "stream",
     "text": [
      "step 33750 train NullLoss: 0.01570362225174904; valid KeyPointAcc: 0.7472817301750183, \n"
     ]
    },
    {
     "name": "stderr",
     "output_type": "stream",
     "text": [
      "100%|##########| 1875/1875 [07:34<00:00,  4.13it/s]\n",
      "100%|##########| 2040/2040 [01:44<00:00, 19.50it/s]\n"
     ]
    },
    {
     "name": "stdout",
     "output_type": "stream",
     "text": [
      "step 35625 train NullLoss: 0.01507424283772707; valid KeyPointAcc: 0.7418894171714783, \n"
     ]
    },
    {
     "name": "stderr",
     "output_type": "stream",
     "text": [
      "100%|##########| 1875/1875 [07:34<00:00,  4.13it/s]\n",
      "100%|##########| 2040/2040 [01:44<00:00, 19.49it/s]\n"
     ]
    },
    {
     "name": "stdout",
     "output_type": "stream",
     "text": [
      "step 37500 train NullLoss: 0.016153370961546898; valid KeyPointAcc: 0.751158595085144, \n"
     ]
    },
    {
     "name": "stderr",
     "output_type": "stream",
     "text": [
      "100%|##########| 1875/1875 [07:35<00:00,  4.12it/s]\n",
      "100%|##########| 2040/2040 [01:44<00:00, 19.49it/s]\n"
     ]
    },
    {
     "name": "stdout",
     "output_type": "stream",
     "text": [
      "step 39375 train NullLoss: 0.014875574968755245; valid KeyPointAcc: 0.7476380467414856, \n"
     ]
    },
    {
     "name": "stderr",
     "output_type": "stream",
     "text": [
      "100%|##########| 1875/1875 [07:35<00:00,  4.12it/s]\n",
      "100%|##########| 2040/2040 [01:44<00:00, 19.43it/s]\n"
     ]
    },
    {
     "name": "stdout",
     "output_type": "stream",
     "text": [
      "step 41250 train NullLoss: 0.015181156806647778; valid KeyPointAcc: 0.7657755613327026, \n"
     ]
    },
    {
     "name": "stderr",
     "output_type": "stream",
     "text": [
      "100%|##########| 1875/1875 [07:34<00:00,  4.13it/s]\n",
      "100%|##########| 2040/2040 [01:44<00:00, 19.45it/s]\n"
     ]
    },
    {
     "name": "stdout",
     "output_type": "stream",
     "text": [
      "step 43125 train NullLoss: 0.014925073832273483; valid KeyPointAcc: 0.7404189109802246, \n"
     ]
    },
    {
     "name": "stderr",
     "output_type": "stream",
     "text": [
      "100%|##########| 1875/1875 [07:34<00:00,  4.12it/s]\n",
      "100%|##########| 2040/2040 [01:44<00:00, 19.47it/s]\n"
     ]
    },
    {
     "name": "stdout",
     "output_type": "stream",
     "text": [
      "step 45000 train NullLoss: 0.014993389137089252; valid KeyPointAcc: 0.7745544910430908, \n"
     ]
    },
    {
     "name": "stderr",
     "output_type": "stream",
     "text": [
      "100%|##########| 1875/1875 [07:35<00:00,  4.12it/s]\n",
      "100%|##########| 2040/2040 [01:44<00:00, 19.45it/s]\n"
     ]
    },
    {
     "name": "stdout",
     "output_type": "stream",
     "text": [
      "step 46875 train NullLoss: 0.015588284470140934; valid KeyPointAcc: 0.7495543360710144, \n"
     ]
    },
    {
     "name": "stderr",
     "output_type": "stream",
     "text": [
      "100%|##########| 1875/1875 [07:34<00:00,  4.12it/s]\n",
      "100%|##########| 2040/2040 [01:44<00:00, 19.47it/s]\n"
     ]
    },
    {
     "name": "stdout",
     "output_type": "stream",
     "text": [
      "step 48750 train NullLoss: 0.01444963552057743; valid KeyPointAcc: 0.7466129064559937, \n"
     ]
    },
    {
     "name": "stderr",
     "output_type": "stream",
     "text": [
      "100%|##########| 1875/1875 [07:34<00:00,  4.12it/s]\n",
      "100%|##########| 2040/2040 [01:44<00:00, 19.43it/s]\n"
     ]
    },
    {
     "name": "stdout",
     "output_type": "stream",
     "text": [
      "step 50625 train NullLoss: 0.014353496953845024; valid KeyPointAcc: 0.7429145574569702, \n"
     ]
    },
    {
     "name": "stderr",
     "output_type": "stream",
     "text": [
      "100%|##########| 1875/1875 [07:36<00:00,  4.11it/s]\n",
      "100%|##########| 2040/2040 [01:45<00:00, 19.37it/s]\n"
     ]
    },
    {
     "name": "stdout",
     "output_type": "stream",
     "text": [
      "step 52500 train NullLoss: 0.015514018014073372; valid KeyPointAcc: 0.7516042590141296, \n"
     ]
    },
    {
     "name": "stderr",
     "output_type": "stream",
     "text": [
      "100%|##########| 1875/1875 [07:35<00:00,  4.12it/s]\n",
      "100%|##########| 2040/2040 [01:45<00:00, 19.40it/s]\n"
     ]
    },
    {
     "name": "stdout",
     "output_type": "stream",
     "text": [
      "step 54375 train NullLoss: 0.014310107566416264; valid KeyPointAcc: 0.7564615607261658, \n"
     ]
    },
    {
     "name": "stderr",
     "output_type": "stream",
     "text": [
      "100%|##########| 1875/1875 [07:34<00:00,  4.12it/s]\n",
      "100%|##########| 2040/2040 [01:45<00:00, 19.41it/s]\n"
     ]
    },
    {
     "name": "stdout",
     "output_type": "stream",
     "text": [
      "step 56250 train NullLoss: 0.015412145294249058; valid KeyPointAcc: 0.7850713133811951, \n"
     ]
    },
    {
     "name": "stderr",
     "output_type": "stream",
     "text": [
      "100%|##########| 1875/1875 [07:35<00:00,  4.12it/s]\n",
      "100%|##########| 2040/2040 [01:45<00:00, 19.43it/s]\n"
     ]
    },
    {
     "name": "stdout",
     "output_type": "stream",
     "text": [
      "step 58125 train NullLoss: 0.014578425325453281; valid KeyPointAcc: 0.7625668048858643, \n"
     ]
    },
    {
     "name": "stderr",
     "output_type": "stream",
     "text": [
      "100%|##########| 1875/1875 [07:34<00:00,  4.13it/s]\n",
      "100%|##########| 2040/2040 [01:45<00:00, 19.40it/s]\n"
     ]
    },
    {
     "name": "stdout",
     "output_type": "stream",
     "text": [
      "step 60000 train NullLoss: 0.014140846207737923; valid KeyPointAcc: 0.7494654059410095, \n"
     ]
    },
    {
     "name": "stderr",
     "output_type": "stream",
     "text": [
      "100%|##########| 1875/1875 [07:34<00:00,  4.13it/s]\n",
      "100%|##########| 2040/2040 [01:44<00:00, 19.43it/s]\n"
     ]
    },
    {
     "name": "stdout",
     "output_type": "stream",
     "text": [
      "step 61875 train NullLoss: 0.014066594652831554; valid KeyPointAcc: 0.7529857158660889, \n"
     ]
    },
    {
     "name": "stderr",
     "output_type": "stream",
     "text": [
      "100%|##########| 1875/1875 [07:34<00:00,  4.12it/s]\n",
      "100%|##########| 2040/2040 [01:45<00:00, 19.42it/s]\n"
     ]
    },
    {
     "name": "stdout",
     "output_type": "stream",
     "text": [
      "step 63750 train NullLoss: 0.015263430774211884; valid KeyPointAcc: 0.7604722380638123, \n"
     ]
    },
    {
     "name": "stderr",
     "output_type": "stream",
     "text": [
      "100%|##########| 1875/1875 [07:34<00:00,  4.12it/s]\n",
      "100%|##########| 2040/2040 [01:45<00:00, 19.38it/s]\n"
     ]
    },
    {
     "name": "stdout",
     "output_type": "stream",
     "text": [
      "step 65625 train NullLoss: 0.01401363592594862; valid KeyPointAcc: 0.7686274647712708, \n"
     ]
    },
    {
     "name": "stderr",
     "output_type": "stream",
     "text": [
      "100%|##########| 1875/1875 [07:34<00:00,  4.12it/s]\n",
      "100%|##########| 2040/2040 [01:45<00:00, 19.40it/s]\n"
     ]
    },
    {
     "name": "stdout",
     "output_type": "stream",
     "text": [
      "step 67500 train NullLoss: 0.014865649864077568; valid KeyPointAcc: 0.7889928817749023, \n"
     ]
    },
    {
     "name": "stderr",
     "output_type": "stream",
     "text": [
      "100%|##########| 1875/1875 [07:34<00:00,  4.12it/s]\n",
      "100%|##########| 2040/2040 [01:45<00:00, 19.42it/s]\n"
     ]
    },
    {
     "name": "stdout",
     "output_type": "stream",
     "text": [
      "step 69375 train NullLoss: 0.014212744310498238; valid KeyPointAcc: 0.7704991102218628, \n"
     ]
    },
    {
     "name": "stderr",
     "output_type": "stream",
     "text": [
      "100%|##########| 1875/1875 [07:34<00:00,  4.12it/s]\n",
      "100%|##########| 2040/2040 [01:45<00:00, 19.37it/s]\n"
     ]
    },
    {
     "name": "stdout",
     "output_type": "stream",
     "text": [
      "step 71250 train NullLoss: 0.013886790722608566; valid KeyPointAcc: 0.7769160270690918, \n"
     ]
    },
    {
     "name": "stderr",
     "output_type": "stream",
     "text": [
      "100%|##########| 1875/1875 [07:34<00:00,  4.13it/s]\n",
      "100%|##########| 2040/2040 [01:45<00:00, 19.39it/s]\n"
     ]
    },
    {
     "name": "stdout",
     "output_type": "stream",
     "text": [
      "step 73125 train NullLoss: 0.013836347497999668; valid KeyPointAcc: 0.7709000706672668, \n"
     ]
    },
    {
     "name": "stderr",
     "output_type": "stream",
     "text": [
      "100%|##########| 1875/1875 [07:35<00:00,  4.12it/s]\n",
      "100%|##########| 2040/2040 [01:45<00:00, 19.36it/s]\n"
     ]
    },
    {
     "name": "stdout",
     "output_type": "stream",
     "text": [
      "step 75000 train NullLoss: 0.015537681058049202; valid KeyPointAcc: 0.7864526510238647, \n"
     ]
    },
    {
     "name": "stderr",
     "output_type": "stream",
     "text": [
      "100%|##########| 1875/1875 [07:35<00:00,  4.12it/s]\n",
      "100%|##########| 2040/2040 [01:45<00:00, 19.34it/s]\n"
     ]
    },
    {
     "name": "stdout",
     "output_type": "stream",
     "text": [
      "step 76875 train NullLoss: 0.014053212478756905; valid KeyPointAcc: 0.7654631733894348, \n"
     ]
    },
    {
     "name": "stderr",
     "output_type": "stream",
     "text": [
      "100%|##########| 1875/1875 [07:34<00:00,  4.13it/s]\n",
      "100%|##########| 2040/2040 [01:45<00:00, 19.38it/s]\n"
     ]
    },
    {
     "name": "stdout",
     "output_type": "stream",
     "text": [
      "step 78750 train NullLoss: 0.013778259046375751; valid KeyPointAcc: 0.7712119817733765, \n"
     ]
    },
    {
     "name": "stderr",
     "output_type": "stream",
     "text": [
      "100%|##########| 1875/1875 [07:34<00:00,  4.13it/s]\n",
      "100%|##########| 2040/2040 [01:45<00:00, 19.41it/s]\n"
     ]
    },
    {
     "name": "stdout",
     "output_type": "stream",
     "text": [
      "step 80625 train NullLoss: 0.013715704903006554; valid KeyPointAcc: 0.7726827263832092, \n"
     ]
    },
    {
     "name": "stderr",
     "output_type": "stream",
     "text": [
      "100%|##########| 1875/1875 [07:36<00:00,  4.11it/s]\n",
      "100%|##########| 2040/2040 [01:45<00:00, 19.35it/s]\n"
     ]
    },
    {
     "name": "stdout",
     "output_type": "stream",
     "text": [
      "step 82500 train NullLoss: 0.01368751935660839; valid KeyPointAcc: 0.7770944833755493, \n"
     ]
    },
    {
     "name": "stderr",
     "output_type": "stream",
     "text": [
      "100%|##########| 1875/1875 [07:35<00:00,  4.12it/s]\n",
      "100%|##########| 2040/2040 [01:45<00:00, 19.32it/s]\n"
     ]
    },
    {
     "name": "stdout",
     "output_type": "stream",
     "text": [
      "step 84375 train NullLoss: 0.013646330684423447; valid KeyPointAcc: 0.7670232057571411, \n"
     ]
    },
    {
     "name": "stderr",
     "output_type": "stream",
     "text": [
      "100%|##########| 1875/1875 [07:34<00:00,  4.12it/s]\n",
      "100%|##########| 2040/2040 [01:46<00:00, 19.23it/s]\n"
     ]
    },
    {
     "name": "stdout",
     "output_type": "stream",
     "text": [
      "step 86250 train NullLoss: 0.0135873444378376; valid KeyPointAcc: 0.7741977572441101, \n"
     ]
    },
    {
     "name": "stderr",
     "output_type": "stream",
     "text": [
      " 46%|####5     | 860/1875 [03:30<04:08,  4.08it/s]\n"
     ]
    },
    {
     "ename": "KeyboardInterrupt",
     "evalue": "",
     "output_type": "error",
     "traceback": [
      "\u001b[0;31m---------------------------------------------------------------------------\u001b[0m",
      "\u001b[0;31mKeyboardInterrupt\u001b[0m                         Traceback (most recent call last)",
      "\u001b[0;32m~/data/projects/nn_tools/nn_tools/torch_utils.py\u001b[0m in \u001b[0;36mfit\u001b[0;34m(module, train_data, valid_data, optimizer, max_step, loss, metrics, is_higher_better, evaluate_per_steps, early_stopping, scheduler, init_metric_value, evaluate_fn, checkpoint_dir)\u001b[0m\n\u001b[1;32m     60\u001b[0m                 \u001b[0moptimizer\u001b[0m\u001b[0;34m.\u001b[0m\u001b[0mzero_grad\u001b[0m\u001b[0;34m(\u001b[0m\u001b[0;34m)\u001b[0m\u001b[0;34m\u001b[0m\u001b[0;34m\u001b[0m\u001b[0m\n\u001b[0;32m---> 61\u001b[0;31m                 \u001b[0mprediction\u001b[0m \u001b[0;34m=\u001b[0m \u001b[0mmodule\u001b[0m\u001b[0;34m(\u001b[0m\u001b[0;34m*\u001b[0m\u001b[0mdata\u001b[0m\u001b[0;34m)\u001b[0m\u001b[0;34m\u001b[0m\u001b[0;34m\u001b[0m\u001b[0m\n\u001b[0m\u001b[1;32m     62\u001b[0m                 \u001b[0;32mif\u001b[0m \u001b[0mprediction\u001b[0m \u001b[0;32mis\u001b[0m \u001b[0;32mNone\u001b[0m\u001b[0;34m:\u001b[0m\u001b[0;34m\u001b[0m\u001b[0;34m\u001b[0m\u001b[0m\n",
      "\u001b[0;32m~/anaconda3/envs/torch15/lib/python3.8/site-packages/torch/nn/modules/module.py\u001b[0m in \u001b[0;36m__call__\u001b[0;34m(self, *input, **kwargs)\u001b[0m\n\u001b[1;32m    549\u001b[0m         \u001b[0;32melse\u001b[0m\u001b[0;34m:\u001b[0m\u001b[0;34m\u001b[0m\u001b[0;34m\u001b[0m\u001b[0m\n\u001b[0;32m--> 550\u001b[0;31m             \u001b[0mresult\u001b[0m \u001b[0;34m=\u001b[0m \u001b[0mself\u001b[0m\u001b[0;34m.\u001b[0m\u001b[0mforward\u001b[0m\u001b[0;34m(\u001b[0m\u001b[0;34m*\u001b[0m\u001b[0minput\u001b[0m\u001b[0;34m,\u001b[0m \u001b[0;34m**\u001b[0m\u001b[0mkwargs\u001b[0m\u001b[0;34m)\u001b[0m\u001b[0;34m\u001b[0m\u001b[0;34m\u001b[0m\u001b[0m\n\u001b[0m\u001b[1;32m    551\u001b[0m         \u001b[0;32mfor\u001b[0m \u001b[0mhook\u001b[0m \u001b[0;32min\u001b[0m \u001b[0mself\u001b[0m\u001b[0;34m.\u001b[0m\u001b[0m_forward_hooks\u001b[0m\u001b[0;34m.\u001b[0m\u001b[0mvalues\u001b[0m\u001b[0;34m(\u001b[0m\u001b[0;34m)\u001b[0m\u001b[0;34m:\u001b[0m\u001b[0;34m\u001b[0m\u001b[0;34m\u001b[0m\u001b[0m\n",
      "\u001b[0;32m~/data/projects/spinal_disease_detection/code/core/key_point/model.py\u001b[0m in \u001b[0;36mforward\u001b[0;34m(self, images, labels, masks)\u001b[0m\n\u001b[1;32m     27\u001b[0m         \u001b[0;32mif\u001b[0m \u001b[0mself\u001b[0m\u001b[0;34m.\u001b[0m\u001b[0mtraining\u001b[0m\u001b[0;34m:\u001b[0m\u001b[0;34m\u001b[0m\u001b[0;34m\u001b[0m\u001b[0m\n\u001b[0;32m---> 28\u001b[0;31m             \u001b[0;32mreturn\u001b[0m \u001b[0mself\u001b[0m\u001b[0;34m.\u001b[0m\u001b[0mloss\u001b[0m\u001b[0;34m(\u001b[0m\u001b[0mscores\u001b[0m\u001b[0;34m,\u001b[0m \u001b[0mlabels\u001b[0m\u001b[0;34m,\u001b[0m \u001b[0mmasks\u001b[0m\u001b[0;34m)\u001b[0m\u001b[0;34m,\u001b[0m\u001b[0;34m\u001b[0m\u001b[0;34m\u001b[0m\u001b[0m\n\u001b[0m\u001b[1;32m     29\u001b[0m         \u001b[0;32melse\u001b[0m\u001b[0;34m:\u001b[0m\u001b[0;34m\u001b[0m\u001b[0;34m\u001b[0m\u001b[0m\n",
      "\u001b[0;32m~/data/projects/spinal_disease_detection/code/core/key_point/loss.py\u001b[0m in \u001b[0;36m__call__\u001b[0;34m(self, pred, dist, mask)\u001b[0m\n\u001b[1;32m     30\u001b[0m     \u001b[0;32mdef\u001b[0m \u001b[0m__call__\u001b[0m\u001b[0;34m(\u001b[0m\u001b[0mself\u001b[0m\u001b[0;34m,\u001b[0m \u001b[0mpred\u001b[0m\u001b[0;34m:\u001b[0m \u001b[0mtorch\u001b[0m\u001b[0;34m.\u001b[0m\u001b[0mTensor\u001b[0m\u001b[0;34m,\u001b[0m \u001b[0mdist\u001b[0m\u001b[0;34m:\u001b[0m \u001b[0mtorch\u001b[0m\u001b[0;34m.\u001b[0m\u001b[0mTensor\u001b[0m\u001b[0;34m,\u001b[0m \u001b[0mmask\u001b[0m\u001b[0;34m:\u001b[0m \u001b[0mtorch\u001b[0m\u001b[0;34m.\u001b[0m\u001b[0mTensor\u001b[0m\u001b[0;34m)\u001b[0m\u001b[0;34m:\u001b[0m\u001b[0;34m\u001b[0m\u001b[0;34m\u001b[0m\u001b[0m\n\u001b[0;32m---> 31\u001b[0;31m         \u001b[0mlabel\u001b[0m \u001b[0;34m=\u001b[0m \u001b[0mdist\u001b[0m\u001b[0;34m.\u001b[0m\u001b[0mto\u001b[0m\u001b[0;34m(\u001b[0m\u001b[0mpred\u001b[0m\u001b[0;34m.\u001b[0m\u001b[0mdevice\u001b[0m\u001b[0;34m)\u001b[0m\u001b[0;34m\u001b[0m\u001b[0;34m\u001b[0m\u001b[0m\n\u001b[0m\u001b[1;32m     32\u001b[0m \u001b[0;34m\u001b[0m\u001b[0m\n",
      "\u001b[0;31mKeyboardInterrupt\u001b[0m: ",
      "\nDuring handling of the above exception, another exception occurred:\n",
      "\u001b[0;31mKeyboardInterrupt\u001b[0m                         Traceback (most recent call last)",
      "\u001b[0;32m<ipython-input-11-4e50481903fc>\u001b[0m in \u001b[0;36m<module>\u001b[0;34m\u001b[0m\n\u001b[1;32m      4\u001b[0m \u001b[0;31m# num_warm_up = len(train_pk_dataloader)\u001b[0m\u001b[0;34m\u001b[0m\u001b[0;34m\u001b[0m\u001b[0;34m\u001b[0m\u001b[0m\n\u001b[1;32m      5\u001b[0m \u001b[0;31m# scheduler = transformers.get_cosine_schedule_with_warmup(optimizer, num_warm_up, max_step)\u001b[0m\u001b[0;34m\u001b[0m\u001b[0;34m\u001b[0m\u001b[0;34m\u001b[0m\u001b[0m\n\u001b[0;32m----> 6\u001b[0;31m result = torch_utils.fit(\n\u001b[0m\u001b[1;32m      7\u001b[0m     \u001b[0mkp_model\u001b[0m\u001b[0;34m,\u001b[0m\u001b[0;34m\u001b[0m\u001b[0;34m\u001b[0m\u001b[0m\n\u001b[1;32m      8\u001b[0m     \u001b[0mtrain_pk_dataloader\u001b[0m\u001b[0;34m,\u001b[0m\u001b[0;34m\u001b[0m\u001b[0;34m\u001b[0m\u001b[0m\n",
      "\u001b[0;32m~/data/projects/nn_tools/nn_tools/torch_utils.py\u001b[0m in \u001b[0;36mfit\u001b[0;34m(module, train_data, valid_data, optimizer, max_step, loss, metrics, is_higher_better, evaluate_per_steps, early_stopping, scheduler, init_metric_value, evaluate_fn, checkpoint_dir)\u001b[0m\n\u001b[1;32m     92\u001b[0m                 \u001b[0;32mbreak\u001b[0m\u001b[0;34m\u001b[0m\u001b[0;34m\u001b[0m\u001b[0m\n\u001b[1;32m     93\u001b[0m     \u001b[0;32mexcept\u001b[0m \u001b[0mKeyboardInterrupt\u001b[0m\u001b[0;34m:\u001b[0m\u001b[0;34m\u001b[0m\u001b[0;34m\u001b[0m\u001b[0m\n\u001b[0;32m---> 94\u001b[0;31m         \u001b[0;32mraise\u001b[0m \u001b[0mKeyboardInterrupt\u001b[0m\u001b[0;34m\u001b[0m\u001b[0;34m\u001b[0m\u001b[0m\n\u001b[0m\u001b[1;32m     95\u001b[0m     \u001b[0;32mfinally\u001b[0m\u001b[0;34m:\u001b[0m\u001b[0;34m\u001b[0m\u001b[0;34m\u001b[0m\u001b[0m\n\u001b[1;32m     96\u001b[0m         \u001b[0mmodule\u001b[0m\u001b[0;34m.\u001b[0m\u001b[0mload_state_dict\u001b[0m\u001b[0;34m(\u001b[0m\u001b[0mbest_state_dict\u001b[0m\u001b[0;34m)\u001b[0m\u001b[0;34m\u001b[0m\u001b[0;34m\u001b[0m\u001b[0m\n",
      "\u001b[0;31mKeyboardInterrupt\u001b[0m: "
     ]
    }
   ],
   "source": [
    "# optimizer = transformers.AdamW(pos_model.parameters(), lr=0.001, correct_bias=False)\n",
    "optimizer = torch.optim.AdamW(kp_model.parameters(), lr=1e-5)\n",
    "max_step = 50*len(train_pk_dataloader)\n",
    "# num_warm_up = len(train_pk_dataloader)\n",
    "# scheduler = transformers.get_cosine_schedule_with_warmup(optimizer, num_warm_up, max_step)\n",
    "result = torch_utils.fit(\n",
    "    kp_model,\n",
    "    train_pk_dataloader,\n",
    "    valid_pk_dataloader,\n",
    "    optimizer,\n",
    "    max_step,\n",
    "    NullLoss(),\n",
    "    [KeyPointAcc()],\n",
    "    is_higher_better=True,\n",
    "    evaluate_per_steps=len(train_pk_dataloader),\n",
    "#     scheduler=scheduler,\n",
    "    checkpoint_dir='../models',\n",
    "#     early_stopping=5*len(train_pk_dataloader),\n",
    ")"
   ]
  },
  {
   "cell_type": "code",
   "execution_count": 12,
   "metadata": {},
   "outputs": [],
   "source": [
    "# torch.save(kp_model, '../models/size512_rotate1_180_AdamW_1e-5.kp_model')"
   ]
  },
  {
   "cell_type": "code",
   "execution_count": null,
   "metadata": {},
   "outputs": [],
   "source": [
    "# kp_model = torch.load('../models/resize_rotate_reverse.kp_model')\n",
    "# test_pk_dataloader = KeyPointDataLoader(\n",
    "#     valid_images, valid_spacings, valid_annotation, batch_size=1,\n",
    "#     random_resize=True, prob_rotate=1, max_angel=45,\n",
    "# )\n",
    "# generator = iter(test_pk_dataloader)\n",
    "# torch_utils.evaluate(kp_model, test_pk_dataloader, [KeyPointAcc()])"
   ]
  },
  {
   "cell_type": "code",
   "execution_count": 78,
   "metadata": {
    "scrolled": false
   },
   "outputs": [
    {
     "name": "stdout",
     "output_type": "stream",
     "text": [
      "tensor(0., device='cuda:0')\n"
     ]
    },
    {
     "data": {
      "image/png": "[encoded data removed]",
      "text/plain": [
       "<PIL.Image.Image image mode=L size=512x512 at 0x7F019884E640>"
      ]
     },
     "execution_count": 78,
     "metadata": {},
     "output_type": "execute_result"
    }
   ],
   "source": [
    "batch = next(generator)\n",
    "with torch.no_grad():\n",
    "    kp_model.eval()\n",
    "    heatmaps = kp_model.cal_scores(batch[0][0]).sigmoid()\n",
    "    preds = kp_model.spinal_model(heatmaps)\n",
    "    print(KeyPointAcc()(preds, *batch[1]))\n",
    "visilize_annotation(tf.to_pil_image(batch[0][0][0]), preds[0])"
   ]
  },
  {
   "cell_type": "code",
   "execution_count": null,
   "metadata": {},
   "outputs": [],
   "source": [
    "# tf.to_pil_image(1 / (batch[1][0][0, 7] / 8 * math.log(2)).exp())"
   ]
  },
  {
   "cell_type": "code",
   "execution_count": 94,
   "metadata": {},
   "outputs": [
    {
     "data": {
      "image/png": "[encoded data removed]",
      "text/plain": [
       "<PIL.Image.Image image mode=L size=512x512 at 0x7F0198880C10>"
      ]
     },
     "execution_count": 94,
     "metadata": {},
     "output_type": "execute_result"
    }
   ],
   "source": [
    "tf.to_pil_image(heatmaps[0, 4].cpu())"
   ]
  }
 ],
 "metadata": {
  "kernelspec": {
   "display_name": "torch15",
   "language": "python",
   "name": "torch15"
  },
  "language_info": {
   "codemirror_mode": {
    "name": "ipython",
    "version": 3
   },
   "file_extension": ".py",
   "mimetype": "text/x-python",
   "name": "python",
   "nbconvert_exporter": "python",
   "pygments_lexer": "ipython3",
   "version": "3.8.3"
  }
 },
 "nbformat": 4,
 "nbformat_minor": 4
}
