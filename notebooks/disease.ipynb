{
 "cells": [
  {
   "cell_type": "code",
   "execution_count": 1,
   "metadata": {},
   "outputs": [],
   "source": [
    "import json\n",
    "import os\n",
    "import math\n",
    "import sys\n",
    "import torch\n",
    "import numpy as np\n",
    "import matplotlib.pyplot as plt\n",
    "import torchvision.models as tm\n",
    "import torchvision.transforms.functional as tf\n",
    "from torchvision.models.detection.backbone_utils import resnet_fpn_backbone\n",
    "from torch.utils.data import DataLoader\n",
    "from PIL import Image\n",
    "from tqdm import tqdm\n",
    "%matplotlib inline\n",
    "sys.path.append('../code')\n",
    "sys.path.append('../../nn_tools/')"
   ]
  },
  {
   "cell_type": "code",
   "execution_count": 2,
   "metadata": {},
   "outputs": [],
   "source": [
    "from core.data_utils import read_dcms, get_spacing, read_annotation, SPINAL_DISC_ID, SPINAL_VERTEBRA_ID, rotate_point\n",
    "from core.visilization import visilize_coord, visilize_distmap, visilize_annotation\n",
    "from core.key_point import KeyPointAcc, KeyPointDataLoader, KeyPointModel, NullLoss, SpinalModelBase\n",
    "from core.key_point import KeyPointBCELossV2, SpinalModel, KeyPointBCELoss\n",
    "from core.structure import DICOM, Study, construct_studies\n",
    "from core.disease import DiseaseModelBase, DiseaseModel, DisDataLoader, Evaluator\n",
    "from nn_tools import torch_utils"
   ]
  },
  {
   "cell_type": "code",
   "execution_count": 3,
   "metadata": {
    "scrolled": true
   },
   "outputs": [
    {
     "name": "stderr",
     "output_type": "stream",
     "text": [
      "100%|##########| 150/150 [01:41<00:00,  1.48it/s]\n",
      "  0%|          | 0/51 [00:00<?, ?it/s]"
     ]
    },
    {
     "name": "stdout",
     "output_type": "stream",
     "text": [
      "{'T11-T12': 1}\n"
     ]
    },
    {
     "name": "stderr",
     "output_type": "stream",
     "text": [
      "100%|##########| 51/51 [00:36<00:00,  1.40it/s]\n"
     ]
    }
   ],
   "source": [
    "train_studies, train_annotation, train_counter = construct_studies(\n",
    "    '../data/lumbar_train150', '../data/lumbar_train150_annotation.json')\n",
    "valid_studies, valid_annotation, valid_counter = construct_studies(\n",
    "    '../data/train/', '../data/lumbar_train51_annotation.json')"
   ]
  },
  {
   "cell_type": "code",
   "execution_count": 4,
   "metadata": {},
   "outputs": [],
   "source": [
    "# vertebra_labels, disc_labels = [], []\n",
    "# for k, v in train_annotation.items():\n",
    "#     vertebra_labels.append(v[0])\n",
    "#     disc_labels.append(v[1])\n",
    "# vertebra_labels = torch.cat(vertebra_labels)\n",
    "# disc_labels = torch.cat(disc_labels)\n",
    "\n",
    "# from collections import Counter\n",
    "# vertebra_counter = Counter(vertebra_labels[:, -1].numpy().tolist())\n",
    "# vertebra_counter = torch.tensor([vertebra_counter[i] for i in range(len(vertebra_counter))], dtype=torch.float)\n",
    "# vertebra_weight = vertebra_counter.mean() / vertebra_counter\n",
    "# print(vertebra_weight)\n",
    "\n",
    "# disc_counter = Counter(disc_labels[:, -1].numpy().tolist())\n",
    "# disc_counter = torch.tensor([disc_counter[i] for i in range(len(disc_counter))], dtype=torch.float)\n",
    "# disc_weight = disc_counter.mean() / disc_counter\n",
    "# print(disc_weight)"
   ]
  },
  {
   "cell_type": "code",
   "execution_count": 5,
   "metadata": {},
   "outputs": [],
   "source": [
    "# {k: len(v) for k, v in train_counter.items()}"
   ]
  },
  {
   "cell_type": "code",
   "execution_count": 6,
   "metadata": {},
   "outputs": [],
   "source": [
    "# {k: len(v) for k, v in valid_counter.items()}"
   ]
  },
  {
   "cell_type": "code",
   "execution_count": 7,
   "metadata": {
    "scrolled": true
   },
   "outputs": [],
   "source": [
    "train_dataloader = DisDataLoader(train_studies, train_annotation, batch_size=8, sagittal_size=[512, 512],\n",
    "                                 transverse_size=[256, 256], k_nearest=1, num_workers=3, num_rep=10,\n",
    "                                 prob_rotate=1, max_angel=180)"
   ]
  },
  {
   "cell_type": "code",
   "execution_count": 8,
   "metadata": {
    "scrolled": true
   },
   "outputs": [],
   "source": [
    "# for study_uid, study in train_studies.items():\n",
    "#     frame = study.t2_sagittal_middle_frame\n",
    "#     assert (study_uid, frame.series_uid, frame.instance_uid) in train_annotation\n",
    "\n",
    "# for study_uid, study in valid_studies.items():\n",
    "#     frame = study.t2_sagittal_middle_frame\n",
    "#     assert (study_uid, frame.series_uid, frame.instance_uid) in valid_annotation\n",
    "\n",
    "# for study_uid, study in train_studies.items():\n",
    "#     if study.t2_transverse_uid is None:\n",
    "#         print(study_uid)\n",
    "\n",
    "# for data, label in tqdm(train_dataloader, ascii=True):\n",
    "#     pass"
   ]
  },
  {
   "cell_type": "code",
   "execution_count": 9,
   "metadata": {},
   "outputs": [],
   "source": [
    "train_images = {}\n",
    "for study_uid, study in train_studies.items():\n",
    "    frame = study.t2_sagittal_middle_frame\n",
    "    train_images[(study_uid, frame.series_uid, frame.instance_uid)] = frame.image"
   ]
  },
  {
   "cell_type": "code",
   "execution_count": 14,
   "metadata": {
    "scrolled": true
   },
   "outputs": [
    {
     "data": {
      "text/plain": [
       "DiseaseModel(\n",
       "  (backbone): KeyPointModel(\n",
       "    (backbone): BackboneWithFPN(\n",
       "      (body): IntermediateLayerGetter(\n",
       "        (conv1): Conv2d(3, 64, kernel_size=(7, 7), stride=(2, 2), padding=(3, 3), bias=False)\n",
       "        (bn1): FrozenBatchNorm2d()\n",
       "        (relu): ReLU(inplace=True)\n",
       "        (maxpool): MaxPool2d(kernel_size=3, stride=2, padding=1, dilation=1, ceil_mode=False)\n",
       "        (layer1): Sequential(\n",
       "          (0): Bottleneck(\n",
       "            (conv1): Conv2d(64, 64, kernel_size=(1, 1), stride=(1, 1), bias=False)\n",
       "            (bn1): FrozenBatchNorm2d()\n",
       "            (conv2): Conv2d(64, 64, kernel_size=(3, 3), stride=(1, 1), padding=(1, 1), bias=False)\n",
       "            (bn2): FrozenBatchNorm2d()\n",
       "            (conv3): Conv2d(64, 256, kernel_size=(1, 1), stride=(1, 1), bias=False)\n",
       "            (bn3): FrozenBatchNorm2d()\n",
       "            (relu): ReLU(inplace=True)\n",
       "            (downsample): Sequential(\n",
       "              (0): Conv2d(64, 256, kernel_size=(1, 1), stride=(1, 1), bias=False)\n",
       "              (1): FrozenBatchNorm2d()\n",
       "            )\n",
       "          )\n",
       "          (1): Bottleneck(\n",
       "            (conv1): Conv2d(256, 64, kernel_size=(1, 1), stride=(1, 1), bias=False)\n",
       "            (bn1): FrozenBatchNorm2d()\n",
       "            (conv2): Conv2d(64, 64, kernel_size=(3, 3), stride=(1, 1), padding=(1, 1), bias=False)\n",
       "            (bn2): FrozenBatchNorm2d()\n",
       "            (conv3): Conv2d(64, 256, kernel_size=(1, 1), stride=(1, 1), bias=False)\n",
       "            (bn3): FrozenBatchNorm2d()\n",
       "            (relu): ReLU(inplace=True)\n",
       "          )\n",
       "          (2): Bottleneck(\n",
       "            (conv1): Conv2d(256, 64, kernel_size=(1, 1), stride=(1, 1), bias=False)\n",
       "            (bn1): FrozenBatchNorm2d()\n",
       "            (conv2): Conv2d(64, 64, kernel_size=(3, 3), stride=(1, 1), padding=(1, 1), bias=False)\n",
       "            (bn2): FrozenBatchNorm2d()\n",
       "            (conv3): Conv2d(64, 256, kernel_size=(1, 1), stride=(1, 1), bias=False)\n",
       "            (bn3): FrozenBatchNorm2d()\n",
       "            (relu): ReLU(inplace=True)\n",
       "          )\n",
       "        )\n",
       "        (layer2): Sequential(\n",
       "          (0): Bottleneck(\n",
       "            (conv1): Conv2d(256, 128, kernel_size=(1, 1), stride=(1, 1), bias=False)\n",
       "            (bn1): FrozenBatchNorm2d()\n",
       "            (conv2): Conv2d(128, 128, kernel_size=(3, 3), stride=(2, 2), padding=(1, 1), bias=False)\n",
       "            (bn2): FrozenBatchNorm2d()\n",
       "            (conv3): Conv2d(128, 512, kernel_size=(1, 1), stride=(1, 1), bias=False)\n",
       "            (bn3): FrozenBatchNorm2d()\n",
       "            (relu): ReLU(inplace=True)\n",
       "            (downsample): Sequential(\n",
       "              (0): Conv2d(256, 512, kernel_size=(1, 1), stride=(2, 2), bias=False)\n",
       "              (1): FrozenBatchNorm2d()\n",
       "            )\n",
       "          )\n",
       "          (1): Bottleneck(\n",
       "            (conv1): Conv2d(512, 128, kernel_size=(1, 1), stride=(1, 1), bias=False)\n",
       "            (bn1): FrozenBatchNorm2d()\n",
       "            (conv2): Conv2d(128, 128, kernel_size=(3, 3), stride=(1, 1), padding=(1, 1), bias=False)\n",
       "            (bn2): FrozenBatchNorm2d()\n",
       "            (conv3): Conv2d(128, 512, kernel_size=(1, 1), stride=(1, 1), bias=False)\n",
       "            (bn3): FrozenBatchNorm2d()\n",
       "            (relu): ReLU(inplace=True)\n",
       "          )\n",
       "          (2): Bottleneck(\n",
       "            (conv1): Conv2d(512, 128, kernel_size=(1, 1), stride=(1, 1), bias=False)\n",
       "            (bn1): FrozenBatchNorm2d()\n",
       "            (conv2): Conv2d(128, 128, kernel_size=(3, 3), stride=(1, 1), padding=(1, 1), bias=False)\n",
       "            (bn2): FrozenBatchNorm2d()\n",
       "            (conv3): Conv2d(128, 512, kernel_size=(1, 1), stride=(1, 1), bias=False)\n",
       "            (bn3): FrozenBatchNorm2d()\n",
       "            (relu): ReLU(inplace=True)\n",
       "          )\n",
       "          (3): Bottleneck(\n",
       "            (conv1): Conv2d(512, 128, kernel_size=(1, 1), stride=(1, 1), bias=False)\n",
       "            (bn1): FrozenBatchNorm2d()\n",
       "            (conv2): Conv2d(128, 128, kernel_size=(3, 3), stride=(1, 1), padding=(1, 1), bias=False)\n",
       "            (bn2): FrozenBatchNorm2d()\n",
       "            (conv3): Conv2d(128, 512, kernel_size=(1, 1), stride=(1, 1), bias=False)\n",
       "            (bn3): FrozenBatchNorm2d()\n",
       "            (relu): ReLU(inplace=True)\n",
       "          )\n",
       "        )\n",
       "        (layer3): Sequential(\n",
       "          (0): Bottleneck(\n",
       "            (conv1): Conv2d(512, 256, kernel_size=(1, 1), stride=(1, 1), bias=False)\n",
       "            (bn1): FrozenBatchNorm2d()\n",
       "            (conv2): Conv2d(256, 256, kernel_size=(3, 3), stride=(2, 2), padding=(1, 1), bias=False)\n",
       "            (bn2): FrozenBatchNorm2d()\n",
       "            (conv3): Conv2d(256, 1024, kernel_size=(1, 1), stride=(1, 1), bias=False)\n",
       "            (bn3): FrozenBatchNorm2d()\n",
       "            (relu): ReLU(inplace=True)\n",
       "            (downsample): Sequential(\n",
       "              (0): Conv2d(512, 1024, kernel_size=(1, 1), stride=(2, 2), bias=False)\n",
       "              (1): FrozenBatchNorm2d()\n",
       "            )\n",
       "          )\n",
       "          (1): Bottleneck(\n",
       "            (conv1): Conv2d(1024, 256, kernel_size=(1, 1), stride=(1, 1), bias=False)\n",
       "            (bn1): FrozenBatchNorm2d()\n",
       "            (conv2): Conv2d(256, 256, kernel_size=(3, 3), stride=(1, 1), padding=(1, 1), bias=False)\n",
       "            (bn2): FrozenBatchNorm2d()\n",
       "            (conv3): Conv2d(256, 1024, kernel_size=(1, 1), stride=(1, 1), bias=False)\n",
       "            (bn3): FrozenBatchNorm2d()\n",
       "            (relu): ReLU(inplace=True)\n",
       "          )\n",
       "          (2): Bottleneck(\n",
       "            (conv1): Conv2d(1024, 256, kernel_size=(1, 1), stride=(1, 1), bias=False)\n",
       "            (bn1): FrozenBatchNorm2d()\n",
       "            (conv2): Conv2d(256, 256, kernel_size=(3, 3), stride=(1, 1), padding=(1, 1), bias=False)\n",
       "            (bn2): FrozenBatchNorm2d()\n",
       "            (conv3): Conv2d(256, 1024, kernel_size=(1, 1), stride=(1, 1), bias=False)\n",
       "            (bn3): FrozenBatchNorm2d()\n",
       "            (relu): ReLU(inplace=True)\n",
       "          )\n",
       "          (3): Bottleneck(\n",
       "            (conv1): Conv2d(1024, 256, kernel_size=(1, 1), stride=(1, 1), bias=False)\n",
       "            (bn1): FrozenBatchNorm2d()\n",
       "            (conv2): Conv2d(256, 256, kernel_size=(3, 3), stride=(1, 1), padding=(1, 1), bias=False)\n",
       "            (bn2): FrozenBatchNorm2d()\n",
       "            (conv3): Conv2d(256, 1024, kernel_size=(1, 1), stride=(1, 1), bias=False)\n",
       "            (bn3): FrozenBatchNorm2d()\n",
       "            (relu): ReLU(inplace=True)\n",
       "          )\n",
       "          (4): Bottleneck(\n",
       "            (conv1): Conv2d(1024, 256, kernel_size=(1, 1), stride=(1, 1), bias=False)\n",
       "            (bn1): FrozenBatchNorm2d()\n",
       "            (conv2): Conv2d(256, 256, kernel_size=(3, 3), stride=(1, 1), padding=(1, 1), bias=False)\n",
       "            (bn2): FrozenBatchNorm2d()\n",
       "            (conv3): Conv2d(256, 1024, kernel_size=(1, 1), stride=(1, 1), bias=False)\n",
       "            (bn3): FrozenBatchNorm2d()\n",
       "            (relu): ReLU(inplace=True)\n",
       "          )\n",
       "          (5): Bottleneck(\n",
       "            (conv1): Conv2d(1024, 256, kernel_size=(1, 1), stride=(1, 1), bias=False)\n",
       "            (bn1): FrozenBatchNorm2d()\n",
       "            (conv2): Conv2d(256, 256, kernel_size=(3, 3), stride=(1, 1), padding=(1, 1), bias=False)\n",
       "            (bn2): FrozenBatchNorm2d()\n",
       "            (conv3): Conv2d(256, 1024, kernel_size=(1, 1), stride=(1, 1), bias=False)\n",
       "            (bn3): FrozenBatchNorm2d()\n",
       "            (relu): ReLU(inplace=True)\n",
       "          )\n",
       "        )\n",
       "        (layer4): Sequential(\n",
       "          (0): Bottleneck(\n",
       "            (conv1): Conv2d(1024, 512, kernel_size=(1, 1), stride=(1, 1), bias=False)\n",
       "            (bn1): FrozenBatchNorm2d()\n",
       "            (conv2): Conv2d(512, 512, kernel_size=(3, 3), stride=(2, 2), padding=(1, 1), bias=False)\n",
       "            (bn2): FrozenBatchNorm2d()\n",
       "            (conv3): Conv2d(512, 2048, kernel_size=(1, 1), stride=(1, 1), bias=False)\n",
       "            (bn3): FrozenBatchNorm2d()\n",
       "            (relu): ReLU(inplace=True)\n",
       "            (downsample): Sequential(\n",
       "              (0): Conv2d(1024, 2048, kernel_size=(1, 1), stride=(2, 2), bias=False)\n",
       "              (1): FrozenBatchNorm2d()\n",
       "            )\n",
       "          )\n",
       "          (1): Bottleneck(\n",
       "            (conv1): Conv2d(2048, 512, kernel_size=(1, 1), stride=(1, 1), bias=False)\n",
       "            (bn1): FrozenBatchNorm2d()\n",
       "            (conv2): Conv2d(512, 512, kernel_size=(3, 3), stride=(1, 1), padding=(1, 1), bias=False)\n",
       "            (bn2): FrozenBatchNorm2d()\n",
       "            (conv3): Conv2d(512, 2048, kernel_size=(1, 1), stride=(1, 1), bias=False)\n",
       "            (bn3): FrozenBatchNorm2d()\n",
       "            (relu): ReLU(inplace=True)\n",
       "          )\n",
       "          (2): Bottleneck(\n",
       "            (conv1): Conv2d(2048, 512, kernel_size=(1, 1), stride=(1, 1), bias=False)\n",
       "            (bn1): FrozenBatchNorm2d()\n",
       "            (conv2): Conv2d(512, 512, kernel_size=(3, 3), stride=(1, 1), padding=(1, 1), bias=False)\n",
       "            (bn2): FrozenBatchNorm2d()\n",
       "            (conv3): Conv2d(512, 2048, kernel_size=(1, 1), stride=(1, 1), bias=False)\n",
       "            (bn3): FrozenBatchNorm2d()\n",
       "            (relu): ReLU(inplace=True)\n",
       "          )\n",
       "        )\n",
       "      )\n",
       "      (fpn): FeaturePyramidNetwork(\n",
       "        (inner_blocks): ModuleList(\n",
       "          (0): Conv2d(256, 256, kernel_size=(1, 1), stride=(1, 1))\n",
       "          (1): Conv2d(512, 256, kernel_size=(1, 1), stride=(1, 1))\n",
       "          (2): Conv2d(1024, 256, kernel_size=(1, 1), stride=(1, 1))\n",
       "          (3): Conv2d(2048, 256, kernel_size=(1, 1), stride=(1, 1))\n",
       "        )\n",
       "        (layer_blocks): ModuleList(\n",
       "          (0): Conv2d(256, 256, kernel_size=(3, 3), stride=(1, 1), padding=(1, 1))\n",
       "          (1): Conv2d(256, 256, kernel_size=(3, 3), stride=(1, 1), padding=(1, 1))\n",
       "          (2): Conv2d(256, 256, kernel_size=(3, 3), stride=(1, 1), padding=(1, 1))\n",
       "          (3): Conv2d(256, 256, kernel_size=(3, 3), stride=(1, 1), padding=(1, 1))\n",
       "        )\n",
       "        (extra_blocks): LastLevelMaxPool()\n",
       "      )\n",
       "    )\n",
       "    (fc): Sequential(\n",
       "      (0): Dropout(p=0.1, inplace=True)\n",
       "      (1): Conv2d(256, 11, kernel_size=(1, 1), stride=(1, 1))\n",
       "    )\n",
       "    (spinal_model): SpinalModel()\n",
       "  )\n",
       "  (vertebra_head): Sequential(\n",
       "    (0): Dropout(p=0, inplace=True)\n",
       "    (1): Linear(in_features=256, out_features=2, bias=True)\n",
       "  )\n",
       "  (disc_head): Sequential(\n",
       "    (0): Dropout(p=0, inplace=True)\n",
       "    (1): Linear(in_features=256, out_features=5, bias=True)\n",
       "  )\n",
       ")"
      ]
     },
     "execution_count": 14,
     "metadata": {},
     "output_type": "execute_result"
    }
   ],
   "source": [
    "backbone = resnet_fpn_backbone('resnet50', True)\n",
    "spinal_model = SpinalModel(train_images, train_annotation,\n",
    "                           num_candidates=128, num_selected_templates=8,\n",
    "                           max_translation=0.05, scale_range=(0.9, 1.1), max_angel=10)\n",
    "kp_model = KeyPointModel(backbone, len(SPINAL_VERTEBRA_ID), len(SPINAL_DISC_ID),\n",
    "                         pixel_mean=0.5, pixel_std=1,\n",
    "                         loss=KeyPointBCELossV2(lamb=1), spinal_model=spinal_model)\n",
    "dis_model = DiseaseModel(\n",
    "    kp_model, sagittal_size=[512, 512], loss_scaler=0.01, use_kp_loss=True, share_backbone=True\n",
    ").cuda(0)\n",
    "# dis_model = torch.nn.DataParallel(dis_model, device_ids=[0, 1])\n",
    "dis_model"
   ]
  },
  {
   "cell_type": "code",
   "execution_count": 11,
   "metadata": {},
   "outputs": [],
   "source": [
    "# small_studies, train_annotation, train_counter = construct_studies(\n",
    "#     '../data/small/', '../data/lumbar_train150_annotation.json')\n",
    "# small_dataloader = DisDataLoader(small_studies, train_annotation, batch_size=8, sagittal_size=[512, 512],\n",
    "#                                  transverse_size=[256, 256], k_nearest=1, num_workers=3, num_rep=10,\n",
    "#                                  prob_rotate=1, max_angel=180)\n",
    "# batch_data, batch_label = next(iter(small_dataloader))\n",
    "\n",
    "# visilize_coord(batch_data[0][0], batch_data[2][0])\n",
    "\n",
    "# batch_pred = dis_model(*batch_data)\n",
    "\n",
    "# tf.to_pil_image(batch_pred[1][0])"
   ]
  },
  {
   "cell_type": "code",
   "execution_count": 12,
   "metadata": {},
   "outputs": [],
   "source": [
    "# study = Study('../data/lumbar_train150/study10/')\n",
    "# pred_coord, *_ = dis_model.eval().module(study)\n",
    "# human_coord = study.t2_sagittal_middle_frame.pixel_coord2human_coord(pred_coord.cpu())\n",
    "# human_coord\n",
    "# study.t2_transverse.point_distance(human_coord)\n",
    "# [dicom.image_position for dicom in study.t2_transverse]\n",
    "# study.t2_transverse.k_nearest(human_coord, 1, 8)\n",
    "# k_nearest = study.t2_transverse_k_nearest(pred_coord.cpu(), 2, [256, 256], 8)\n",
    "# k_nearest.shape\n",
    "# tf.to_pil_image(k_nearest[8][0])"
   ]
  },
  {
   "cell_type": "code",
   "execution_count": 15,
   "metadata": {
    "scrolled": true
   },
   "outputs": [
    {
     "name": "stdout",
     "output_type": "stream",
     "text": [
      "using NullLoss as training loss, using NullLoss(higher is better) as early stopping metric\n"
     ]
    },
    {
     "name": "stderr",
     "output_type": "stream",
     "text": [
      "100%|##########| 188/188 [00:45<00:00,  4.09it/s]\n",
      "100%|##########| 1020/1020 [00:19<00:00, 52.46it/s]\n"
     ]
    },
    {
     "name": "stdout",
     "output_type": "stream",
     "text": [
      "step 188 train NullLoss: 0.12798237800598145\n",
      "valid macro precision: 0.3791408630852574\n",
      "valid avg key point acc: 0.38993716836236664\n",
      "valid disc v1 precision: 0.7026143746707108\n",
      "valid disc v2 precision: 0.1021069821035014\n",
      "valid disc v3 precision: 0.5695067233405057\n",
      "valid disc v4 precision: 7.299269007405985e-08\n",
      "valid disc v5 precision: 4.9751238830722504e-08\n",
      "valid macro f1: 0.23897850934284542\n",
      "valid micro f1: 0.3625218942275154\n",
      "valid vertebra v1 precision: 0.42492918272355906\n",
      "valid vertebra v2 precision: 0.8548286560145962\n"
     ]
    },
    {
     "name": "stderr",
     "output_type": "stream",
     "text": [
      "100%|##########| 188/188 [00:46<00:00,  4.09it/s]\n",
      "100%|##########| 1020/1020 [00:23<00:00, 43.10it/s]\n"
     ]
    },
    {
     "name": "stdout",
     "output_type": "stream",
     "text": [
      "step 376 train NullLoss: 0.05666559189558029\n",
      "valid macro precision: 0.3888227076111525\n",
      "valid avg key point acc: 0.37096570374289467\n",
      "valid disc v1 precision: 0.674714099753136\n",
      "valid disc v2 precision: 0.20650096724661696\n",
      "valid disc v3 precision: 0.42926829613325385\n",
      "valid disc v4 precision: 0.09615389792898744\n",
      "valid disc v5 precision: 5.208332790798668e-08\n",
      "valid macro f1: 0.23915900348055724\n",
      "valid micro f1: 0.3163265344709312\n",
      "valid vertebra v1 precision: 0.562674091215928\n",
      "valid vertebra v2 precision: 0.7524475489168175\n"
     ]
    },
    {
     "name": "stderr",
     "output_type": "stream",
     "text": [
      "100%|##########| 188/188 [00:46<00:00,  4.08it/s]\n",
      "100%|##########| 1020/1020 [00:18<00:00, 54.49it/s]\n"
     ]
    },
    {
     "name": "stdout",
     "output_type": "stream",
     "text": [
      "step 564 train NullLoss: 0.04625526815652847\n",
      "valid macro precision: 0.4203255070728072\n",
      "valid avg key point acc: 0.3324018023859806\n",
      "valid disc v1 precision: 0.5921625517514498\n",
      "valid disc v2 precision: 0.4601227010174765\n",
      "valid disc v3 precision: 0.5267857126913267\n",
      "valid disc v4 precision: 0.048275924375734566\n",
      "valid disc v5 precision: 0.08121831662758207\n",
      "valid macro f1: 0.230282509068336\n",
      "valid micro f1: 0.26758280437557436\n",
      "valid vertebra v1 precision: 0.6677524320682454\n",
      "valid vertebra v2 precision: 0.5659609109778353\n"
     ]
    },
    {
     "name": "stderr",
     "output_type": "stream",
     "text": [
      "100%|##########| 188/188 [00:46<00:00,  4.08it/s]\n",
      "100%|##########| 1020/1020 [00:18<00:00, 54.54it/s]\n"
     ]
    },
    {
     "name": "stdout",
     "output_type": "stream",
     "text": [
      "step 752 train NullLoss: 0.04123324155807495\n",
      "valid macro precision: 0.44710473527234573\n",
      "valid avg key point acc: 0.47889092140210066\n",
      "valid disc v1 precision: 0.6212268720306354\n",
      "valid disc v2 precision: 0.15669857280625427\n",
      "valid disc v3 precision: 0.373702426515487\n",
      "valid disc v4 precision: 0.5119047604875285\n",
      "valid disc v5 precision: 0.016194371158350512\n",
      "valid macro f1: 0.34224594057583013\n",
      "valid micro f1: 0.40884918283501587\n",
      "valid vertebra v1 precision: 0.7063291034770074\n",
      "valid vertebra v2 precision: 0.7436770404311572\n"
     ]
    },
    {
     "name": "stderr",
     "output_type": "stream",
     "text": [
      "100%|##########| 188/188 [00:46<00:00,  4.09it/s]\n",
      "100%|##########| 1020/1020 [00:18<00:00, 54.58it/s]\n"
     ]
    },
    {
     "name": "stdout",
     "output_type": "stream",
     "text": [
      "step 940 train NullLoss: 0.03702687844634056\n",
      "valid macro precision: 0.47195909199745956\n",
      "valid avg key point acc: 0.5363655198193208\n",
      "valid disc v1 precision: 0.5805604189043709\n",
      "valid disc v2 precision: 0.4198312253200163\n",
      "valid disc v3 precision: 0.1671974628281063\n",
      "valid disc v4 precision: 0.46938775822573897\n",
      "valid disc v5 precision: 0.11149828491301152\n",
      "valid macro f1: 0.3932494471305082\n",
      "valid micro f1: 0.4837837840905772\n",
      "valid vertebra v1 precision: 0.6928571336734698\n",
      "valid vertebra v2 precision: 0.8623813601175033\n"
     ]
    },
    {
     "name": "stderr",
     "output_type": "stream",
     "text": [
      "100%|##########| 188/188 [00:46<00:00,  4.08it/s]\n",
      "100%|##########| 1020/1020 [00:18<00:00, 55.04it/s]\n"
     ]
    },
    {
     "name": "stdout",
     "output_type": "stream",
     "text": [
      "step 1128 train NullLoss: 0.03613949194550514\n",
      "valid macro precision: 0.44351663270422154\n",
      "valid avg key point acc: 0.4361220556320428\n",
      "valid disc v1 precision: 0.5541022579286027\n",
      "valid disc v2 precision: 0.267584104966847\n",
      "valid disc v3 precision: 0.2371541605867921\n",
      "valid disc v4 precision: 0.5284974063733258\n",
      "valid disc v5 precision: 0.16475098354398596\n",
      "valid macro f1: 0.31482337042941555\n",
      "valid micro f1: 0.3836346634432252\n",
      "valid vertebra v1 precision: 0.45454545721141015\n",
      "valid vertebra v2 precision: 0.8979820583185868\n"
     ]
    },
    {
     "name": "stderr",
     "output_type": "stream",
     "text": [
      "100%|##########| 188/188 [00:46<00:00,  4.08it/s]\n",
      "100%|##########| 1020/1020 [00:19<00:00, 52.68it/s]\n"
     ]
    },
    {
     "name": "stdout",
     "output_type": "stream",
     "text": [
      "step 1316 train NullLoss: 0.03395886719226837\n",
      "valid macro precision: 0.4585424871941028\n",
      "valid avg key point acc: 0.5031135655777991\n",
      "valid disc v1 precision: 0.593436643693042\n",
      "valid disc v2 precision: 0.2745535764608577\n",
      "valid disc v3 precision: 0.06097562505311412\n",
      "valid disc v4 precision: 0.6417112147902444\n",
      "valid disc v5 precision: 0.13427564422080254\n",
      "valid macro f1: 0.3600188885285447\n",
      "valid micro f1: 0.44112539190586253\n",
      "valid vertebra v1 precision: 0.7057142739591843\n",
      "valid vertebra v2 precision: 0.7991304321814745\n"
     ]
    },
    {
     "name": "stderr",
     "output_type": "stream",
     "text": [
      "100%|##########| 188/188 [00:46<00:00,  4.08it/s]\n",
      "100%|##########| 1020/1020 [00:18<00:00, 54.88it/s]\n"
     ]
    },
    {
     "name": "stdout",
     "output_type": "stream",
     "text": [
      "step 1504 train NullLoss: 0.029832785949110985\n",
      "valid macro precision: 0.5193389672498188\n",
      "valid avg key point acc: 0.5507290822083543\n",
      "valid disc v1 precision: 0.5941686352376889\n",
      "valid disc v2 precision: 0.39447514045358806\n",
      "valid disc v3 precision: 0.1979166756572418\n",
      "valid disc v4 precision: 0.5135135120525933\n",
      "valid disc v5 precision: 0.3283132633546227\n",
      "valid macro f1: 0.43308735702611517\n",
      "valid micro f1: 0.513316549375339\n",
      "valid vertebra v1 precision: 0.7549999872500006\n",
      "valid vertebra v2 precision: 0.851985556742996\n"
     ]
    },
    {
     "name": "stderr",
     "output_type": "stream",
     "text": [
      "100%|##########| 188/188 [00:46<00:00,  4.08it/s]\n",
      "100%|##########| 1020/1020 [00:18<00:00, 54.73it/s]\n"
     ]
    },
    {
     "name": "stdout",
     "output_type": "stream",
     "text": [
      "step 1692 train NullLoss: 0.028219370171427727\n",
      "valid macro precision: 0.5288037829965765\n",
      "valid avg key point acc: 0.6295139569366047\n",
      "valid disc v1 precision: 0.7216117183646634\n",
      "valid disc v2 precision: 0.39668616185796957\n",
      "valid disc v3 precision: 0.4160982287558464\n",
      "valid disc v4 precision: 0.46491228377962424\n",
      "valid disc v5 precision: 0.17535546562296375\n",
      "valid macro f1: 0.48357064811060957\n",
      "valid micro f1: 0.546161320834132\n",
      "valid vertebra v1 precision: 0.8244803545274664\n",
      "valid vertebra v2 precision: 0.7024822680675017\n"
     ]
    },
    {
     "name": "stderr",
     "output_type": "stream",
     "text": [
      "100%|##########| 188/188 [00:46<00:00,  4.08it/s]\n",
      "100%|##########| 1020/1020 [00:18<00:00, 54.90it/s]\n"
     ]
    },
    {
     "name": "stdout",
     "output_type": "stream",
     "text": [
      "step 1880 train NullLoss: 0.028616253286600113\n",
      "valid macro precision: 0.5366089388731589\n",
      "valid avg key point acc: 0.6613966056808077\n",
      "valid disc v1 precision: 0.5606060598075618\n",
      "valid disc v2 precision: 0.6580166791841209\n",
      "valid disc v3 precision: 0.22207959635225685\n",
      "valid disc v4 precision: 0.5023255811790157\n",
      "valid disc v5 precision: 0.2104121600688868\n",
      "valid macro f1: 0.5065931367875944\n",
      "valid micro f1: 0.6038698420280249\n",
      "valid vertebra v1 precision: 0.763513501643536\n",
      "valid vertebra v2 precision: 0.8393089938767341\n"
     ]
    },
    {
     "name": "stderr",
     "output_type": "stream",
     "text": [
      "100%|##########| 188/188 [00:46<00:00,  4.08it/s]\n",
      "100%|##########| 1020/1020 [00:18<00:00, 54.81it/s]\n"
     ]
    },
    {
     "name": "stdout",
     "output_type": "stream",
     "text": [
      "step 2068 train NullLoss: 0.024588830769062042\n",
      "valid macro precision: 0.5424754458771898\n",
      "valid avg key point acc: 0.6354133240303091\n",
      "valid disc v1 precision: 0.6817585277984445\n",
      "valid disc v2 precision: 0.3797468377848717\n",
      "valid disc v3 precision: 0.3456284195183492\n",
      "valid disc v4 precision: 0.6063348320058976\n",
      "valid disc v5 precision: 0.1950617434537411\n",
      "valid macro f1: 0.49819470578326425\n",
      "valid micro f1: 0.5609849931335259\n",
      "valid vertebra v1 precision: 0.8714953097432099\n",
      "valid vertebra v2 precision: 0.7173024508358145\n"
     ]
    },
    {
     "name": "stderr",
     "output_type": "stream",
     "text": [
      "100%|##########| 188/188 [00:46<00:00,  4.08it/s]\n",
      "100%|##########| 1020/1020 [00:18<00:00, 54.96it/s]\n"
     ]
    },
    {
     "name": "stdout",
     "output_type": "stream",
     "text": [
      "step 2256 train NullLoss: 0.022865625098347664\n",
      "valid macro precision: 0.514254943861637\n",
      "valid avg key point acc: 0.622126053761839\n",
      "valid disc v1 precision: 0.6653306591138188\n",
      "valid disc v2 precision: 0.5472249260520949\n",
      "valid disc v3 precision: 0.14912281727711063\n",
      "valid disc v4 precision: 0.6683168150181371\n",
      "valid disc v5 precision: 0.16289594285538722\n",
      "valid macro f1: 0.46608411062293115\n",
      "valid micro f1: 0.5932798378812465\n",
      "valid vertebra v1 precision: 0.49140049182307166\n",
      "valid vertebra v2 precision: 0.9154929548918381\n"
     ]
    },
    {
     "name": "stderr",
     "output_type": "stream",
     "text": [
      "100%|##########| 188/188 [00:46<00:00,  4.08it/s]\n",
      "100%|##########| 1020/1020 [00:18<00:00, 55.03it/s]\n"
     ]
    },
    {
     "name": "stdout",
     "output_type": "stream",
     "text": [
      "step 2444 train NullLoss: 0.02204141952097416\n",
      "valid macro precision: 0.49412927209013796\n",
      "valid avg key point acc: 0.6531222364275813\n",
      "valid disc v1 precision: 0.5202531643005929\n",
      "valid disc v2 precision: 0.36406397245411154\n",
      "valid disc v3 precision: 0.21469741456203417\n",
      "valid disc v4 precision: 0.6796536640992499\n",
      "valid disc v5 precision: 0.154566760910222\n",
      "valid macro f1: 0.471984850619625\n",
      "valid micro f1: 0.5523514602504092\n",
      "valid vertebra v1 precision: 0.7323008746769525\n",
      "valid vertebra v2 precision: 0.7933690536278027\n"
     ]
    },
    {
     "name": "stderr",
     "output_type": "stream",
     "text": [
      "100%|##########| 188/188 [00:46<00:00,  4.08it/s]\n",
      "100%|##########| 1020/1020 [00:18<00:00, 54.50it/s]\n"
     ]
    },
    {
     "name": "stdout",
     "output_type": "stream",
     "text": [
      "step 2632 train NullLoss: 0.01931695267558098\n",
      "valid macro precision: 0.5380521205530455\n",
      "valid avg key point acc: 0.6936831587563257\n",
      "valid disc v1 precision: 0.605415859375682\n",
      "valid disc v2 precision: 0.38770053676113125\n",
      "valid disc v3 precision: 0.3162291213310472\n",
      "valid disc v4 precision: 0.6936170047985528\n",
      "valid disc v5 precision: 0.18052739632748901\n",
      "valid macro f1: 0.5224522421111022\n",
      "valid micro f1: 0.6177159028606348\n",
      "valid vertebra v1 precision: 0.7107061407423171\n",
      "valid vertebra v2 precision: 0.8721687845350992\n"
     ]
    },
    {
     "name": "stderr",
     "output_type": "stream",
     "text": [
      "100%|##########| 188/188 [00:46<00:00,  4.08it/s]\n",
      "100%|##########| 1020/1020 [00:18<00:00, 55.01it/s]\n"
     ]
    },
    {
     "name": "stdout",
     "output_type": "stream",
     "text": [
      "step 2820 train NullLoss: 0.0178325604647398\n",
      "valid macro precision: 0.5411706841002928\n",
      "valid avg key point acc: 0.7147127593833201\n",
      "valid disc v1 precision: 0.71411969536177\n",
      "valid disc v2 precision: 0.31441048359108326\n",
      "valid disc v3 precision: 0.4653846162721893\n",
      "valid disc v4 precision: 0.6062992042284091\n",
      "valid disc v5 precision: 0.15913557331490874\n",
      "valid macro f1: 0.5354307435495352\n",
      "valid micro f1: 0.6108703707413826\n",
      "valid vertebra v1 precision: 0.8160919394900258\n",
      "valid vertebra v2 precision: 0.7127532764436635\n"
     ]
    },
    {
     "name": "stderr",
     "output_type": "stream",
     "text": [
      "100%|##########| 188/188 [00:46<00:00,  4.08it/s]\n",
      "100%|##########| 1020/1020 [00:18<00:00, 54.74it/s]\n"
     ]
    },
    {
     "name": "stdout",
     "output_type": "stream",
     "text": [
      "step 3008 train NullLoss: 0.016442976891994476\n",
      "valid macro precision: 0.5185840394937304\n",
      "valid avg key point acc: 0.7505900722229983\n",
      "valid disc v1 precision: 0.6802228392175729\n",
      "valid disc v2 precision: 0.39404255499502033\n",
      "valid disc v3 precision: 0.47029077192690844\n",
      "valid disc v4 precision: 0.5323193891772328\n",
      "valid disc v5 precision: 0.08992807230474562\n",
      "valid macro f1: 0.5352972545967505\n",
      "valid micro f1: 0.66325132270743\n",
      "valid vertebra v1 precision: 0.5954356806873161\n",
      "valid vertebra v2 precision: 0.8678489681473172\n"
     ]
    },
    {
     "name": "stderr",
     "output_type": "stream",
     "text": [
      "100%|##########| 188/188 [00:46<00:00,  4.08it/s]\n",
      "100%|##########| 1020/1020 [00:18<00:00, 55.02it/s]\n"
     ]
    },
    {
     "name": "stdout",
     "output_type": "stream",
     "text": [
      "step 3196 train NullLoss: 0.015166138298809528\n",
      "valid macro precision: 0.5148528725079118\n",
      "valid avg key point acc: 0.7806732664798631\n",
      "valid disc v1 precision: 0.726107845957204\n",
      "valid disc v2 precision: 0.3655115533743968\n",
      "valid disc v3 precision: 0.3652073763777102\n",
      "valid disc v4 precision: 0.5461538426035506\n",
      "valid disc v5 precision: 0.17258884356721343\n",
      "valid macro f1: 0.549895723438224\n",
      "valid micro f1: 0.6063842982370138\n",
      "valid vertebra v1 precision: 0.851106625709995\n",
      "valid vertebra v2 precision: 0.5772940199653127\n"
     ]
    },
    {
     "name": "stderr",
     "output_type": "stream",
     "text": [
      "100%|##########| 188/188 [00:46<00:00,  4.08it/s]\n",
      "100%|##########| 1020/1020 [00:18<00:00, 55.14it/s]\n"
     ]
    },
    {
     "name": "stdout",
     "output_type": "stream",
     "text": [
      "step 3384 train NullLoss: 0.01426243782043457\n",
      "valid macro precision: 0.528722179105174\n",
      "valid avg key point acc: 0.7745808221834775\n",
      "valid disc v1 precision: 0.7595072280716955\n",
      "valid disc v2 precision: 0.4436026945521432\n",
      "valid disc v3 precision: 0.3987804902736466\n",
      "valid disc v4 precision: 0.4500000038461536\n",
      "valid disc v5 precision: 0.15156795639136042\n",
      "valid macro f1: 0.5582759125318185\n",
      "valid micro f1: 0.6289484917146956\n",
      "valid vertebra v1 precision: 0.8670309520207303\n",
      "valid vertebra v2 precision: 0.6305659285804888\n"
     ]
    },
    {
     "name": "stderr",
     "output_type": "stream",
     "text": [
      "100%|##########| 188/188 [00:46<00:00,  4.08it/s]\n",
      "100%|##########| 1020/1020 [00:18<00:00, 55.11it/s]\n"
     ]
    },
    {
     "name": "stdout",
     "output_type": "stream",
     "text": [
      "step 3572 train NullLoss: 0.013490483164787292\n",
      "valid macro precision: 0.5346244271297756\n",
      "valid avg key point acc: 0.7680718851013465\n",
      "valid disc v1 precision: 0.7774755138468388\n",
      "valid disc v2 precision: 0.4588815796236582\n",
      "valid disc v3 precision: 0.24395857896528014\n",
      "valid disc v4 precision: 0.6470588119953873\n",
      "valid disc v5 precision: 0.14081997715436803\n",
      "valid macro f1: 0.5559626852158369\n",
      "valid micro f1: 0.6733668313010516\n",
      "valid vertebra v1 precision: 0.6611909584726506\n",
      "valid vertebra v2 precision: 0.8129855698502466\n"
     ]
    },
    {
     "name": "stderr",
     "output_type": "stream",
     "text": [
      "100%|##########| 188/188 [00:46<00:00,  4.08it/s]\n",
      "100%|##########| 1020/1020 [00:18<00:00, 54.94it/s]\n"
     ]
    },
    {
     "name": "stdout",
     "output_type": "stream",
     "text": [
      "step 3760 train NullLoss: 0.01289552915841341\n",
      "valid macro precision: 0.546681323222287\n",
      "valid avg key point acc: 0.7886988768701849\n",
      "valid disc v1 precision: 0.7149195760962886\n",
      "valid disc v2 precision: 0.5429687493286133\n",
      "valid disc v3 precision: 0.33333333713850827\n",
      "valid disc v4 precision: 0.5482625445357109\n",
      "valid disc v5 precision: 0.14782609920604875\n",
      "valid macro f1: 0.580427595660533\n",
      "valid micro f1: 0.678289548243546\n",
      "valid vertebra v1 precision: 0.755102031350574\n",
      "valid vertebra v2 precision: 0.7843569249002649\n"
     ]
    },
    {
     "name": "stderr",
     "output_type": "stream",
     "text": [
      "100%|##########| 188/188 [00:46<00:00,  4.08it/s]\n",
      "100%|##########| 1020/1020 [00:18<00:00, 54.57it/s]\n"
     ]
    },
    {
     "name": "stdout",
     "output_type": "stream",
     "text": [
      "step 3948 train NullLoss: 0.012208397500216961\n",
      "valid macro precision: 0.5223183921596112\n",
      "valid avg key point acc: 0.7793516438579748\n",
      "valid disc v1 precision: 0.7568169142257438\n",
      "valid disc v2 precision: 0.4352290689537272\n",
      "valid disc v3 precision: 0.3989130456758033\n",
      "valid disc v4 precision: 0.34586467324325765\n",
      "valid disc v5 precision: 0.14754099644659396\n",
      "valid macro f1: 0.5514789239819466\n",
      "valid micro f1: 0.6794562437328459\n",
      "valid vertebra v1 precision: 0.7677824155739575\n",
      "valid vertebra v2 precision: 0.8040816309981953\n"
     ]
    },
    {
     "name": "stderr",
     "output_type": "stream",
     "text": [
      "100%|##########| 188/188 [00:46<00:00,  4.08it/s]\n",
      "100%|##########| 1020/1020 [00:18<00:00, 54.81it/s]\n"
     ]
    },
    {
     "name": "stdout",
     "output_type": "stream",
     "text": [
      "step 4136 train NullLoss: 0.012097441591322422\n",
      "valid macro precision: 0.5410762012217353\n",
      "valid avg key point acc: 0.8037785113252859\n",
      "valid disc v1 precision: 0.7803278657887665\n",
      "valid disc v2 precision: 0.18988327330920976\n",
      "valid disc v3 precision: 0.48687089744264994\n",
      "valid disc v4 precision: 0.5241635669766864\n",
      "valid disc v5 precision: 0.3038869327248434\n",
      "valid macro f1: 0.5819550428887089\n",
      "valid micro f1: 0.6576538826258845\n",
      "valid vertebra v1 precision: 0.7854609827850716\n",
      "valid vertebra v2 precision: 0.7169398895249187\n"
     ]
    },
    {
     "name": "stderr",
     "output_type": "stream",
     "text": [
      "100%|##########| 188/188 [00:46<00:00,  4.08it/s]\n",
      "100%|##########| 1020/1020 [00:18<00:00, 54.70it/s]\n"
     ]
    },
    {
     "name": "stdout",
     "output_type": "stream",
     "text": [
      "step 4324 train NullLoss: 0.01393855083733797\n",
      "valid macro precision: 0.4836059892983175\n",
      "valid avg key point acc: 0.8320477470693337\n",
      "valid disc v1 precision: 0.7581967186660172\n",
      "valid disc v2 precision: 0.51259842499845\n",
      "valid disc v3 precision: 0.44932432546566836\n",
      "valid disc v4 precision: 0.09318999331971374\n",
      "valid disc v5 precision: 0.10884355071960714\n",
      "valid macro f1: 0.5316453521614758\n",
      "valid micro f1: 0.709306335062362\n",
      "valid vertebra v1 precision: 0.6021671794994682\n",
      "valid vertebra v2 precision: 0.8609217324192979\n"
     ]
    },
    {
     "name": "stderr",
     "output_type": "stream",
     "text": [
      "100%|##########| 188/188 [00:46<00:00,  4.08it/s]\n",
      "100%|##########| 1020/1020 [00:18<00:00, 55.10it/s]\n"
     ]
    },
    {
     "name": "stdout",
     "output_type": "stream",
     "text": [
      "step 4512 train NullLoss: 0.011365498416125774\n",
      "valid macro precision: 0.521674329723664\n",
      "valid avg key point acc: 0.8017613354467299\n",
      "valid disc v1 precision: 0.7416492667886297\n",
      "valid disc v2 precision: 0.5257234722552496\n",
      "valid disc v3 precision: 0.2373453377425121\n",
      "valid disc v4 precision: 0.5968992172946344\n",
      "valid disc v5 precision: 0.10720563770806196\n",
      "valid macro f1: 0.5634072265826547\n",
      "valid micro f1: 0.6907054056014054\n",
      "valid vertebra v1 precision: 0.6082474189605698\n",
      "valid vertebra v2 precision: 0.8346499573159905\n"
     ]
    },
    {
     "name": "stderr",
     "output_type": "stream",
     "text": [
      "100%|##########| 188/188 [00:46<00:00,  4.08it/s]\n",
      "100%|##########| 1020/1020 [00:18<00:00, 54.99it/s]\n"
     ]
    },
    {
     "name": "stdout",
     "output_type": "stream",
     "text": [
      "step 4700 train NullLoss: 0.011193959042429924\n",
      "valid macro precision: 0.45041345486173395\n",
      "valid avg key point acc: 0.8364181453281203\n",
      "valid disc v1 precision: 0.5871975797661534\n",
      "valid disc v2 precision: 0.45419553573217036\n",
      "valid disc v3 precision: 0.43082114891291\n",
      "valid disc v4 precision: 0.26501768445104706\n",
      "valid disc v5 precision: 0.12807018848876534\n",
      "valid macro f1: 0.522978837018773\n",
      "valid micro f1: 0.679611647526257\n",
      "valid vertebra v1 precision: 0.4195046464549645\n",
      "valid vertebra v2 precision: 0.8680874002261268\n"
     ]
    },
    {
     "name": "stderr",
     "output_type": "stream",
     "text": [
      "100%|##########| 188/188 [00:46<00:00,  4.08it/s]\n",
      "100%|##########| 1020/1020 [00:18<00:00, 55.20it/s]\n"
     ]
    },
    {
     "name": "stdout",
     "output_type": "stream",
     "text": [
      "step 4888 train NullLoss: 0.010685053654015064\n",
      "valid macro precision: 0.44487608380889787\n",
      "valid avg key point acc: 0.8458562599034096\n",
      "valid disc v1 precision: 0.6151885819042958\n",
      "valid disc v2 precision: 0.6636432325979859\n",
      "valid disc v3 precision: 0.23052632146260377\n",
      "valid disc v4 precision: 0.12996392563437362\n",
      "valid disc v5 precision: 0.0977312531332896\n",
      "valid macro f1: 0.5109613452125931\n",
      "valid micro f1: 0.6717963866171656\n",
      "valid vertebra v1 precision: 0.614088817332655\n",
      "valid vertebra v2 precision: 0.7629904545970814\n"
     ]
    },
    {
     "name": "stderr",
     "output_type": "stream",
     "text": [
      "100%|##########| 188/188 [00:46<00:00,  4.08it/s]\n",
      "100%|##########| 1020/1020 [00:18<00:00, 55.05it/s]\n"
     ]
    },
    {
     "name": "stdout",
     "output_type": "stream",
     "text": [
      "step 5076 train NullLoss: 0.010158528573811054\n",
      "valid macro precision: 0.4978298241112845\n",
      "valid avg key point acc: 0.8455332306839496\n",
      "valid disc v1 precision: 0.7816831655278894\n",
      "valid disc v2 precision: 0.42370255734000684\n",
      "valid disc v3 precision: 0.4794520552636517\n",
      "valid disc v4 precision: 0.3608247518333504\n",
      "valid disc v5 precision: 0.06678083675408095\n",
      "valid macro f1: 0.5635236422663865\n",
      "valid micro f1: 0.6912399362214405\n",
      "valid vertebra v1 precision: 0.6015037563457517\n",
      "valid vertebra v2 precision: 0.7708616457142613\n"
     ]
    },
    {
     "name": "stderr",
     "output_type": "stream",
     "text": [
      "100%|##########| 188/188 [00:46<00:00,  4.08it/s]\n",
      "100%|##########| 1020/1020 [00:18<00:00, 54.86it/s]\n"
     ]
    },
    {
     "name": "stdout",
     "output_type": "stream",
     "text": [
      "step 5264 train NullLoss: 0.009876907803118229\n",
      "valid macro precision: 0.47058573559711164\n",
      "valid avg key point acc: 0.8391836834419959\n",
      "valid disc v1 precision: 0.763403834103258\n",
      "valid disc v2 precision: 0.6463512406359063\n",
      "valid disc v3 precision: 0.322860242191544\n",
      "valid disc v4 precision: 0.051094923277742836\n",
      "valid disc v5 precision: 0.06779662482045341\n",
      "valid macro f1: 0.5175573704136723\n",
      "valid micro f1: 0.6927647644195424\n",
      "valid vertebra v1 precision: 0.7091194902792614\n",
      "valid vertebra v2 precision: 0.7334737938716156\n"
     ]
    },
    {
     "name": "stderr",
     "output_type": "stream",
     "text": [
      "100%|##########| 188/188 [00:46<00:00,  4.08it/s]\n",
      "100%|##########| 1020/1020 [00:18<00:00, 54.62it/s]\n"
     ]
    },
    {
     "name": "stdout",
     "output_type": "stream",
     "text": [
      "step 5452 train NullLoss: 0.009935318492352962\n",
      "valid macro precision: 0.47821665116507933\n",
      "valid avg key point acc: 0.8487518880443944\n",
      "valid disc v1 precision: 0.6365914773274037\n",
      "valid disc v2 precision: 0.5453852014433989\n",
      "valid disc v3 precision: 0.16004184811627933\n",
      "valid disc v4 precision: 0.5069930065039856\n",
      "valid disc v5 precision: 0.14808363595527402\n",
      "valid macro f1: 0.5517062806883563\n",
      "valid micro f1: 0.6932215202596071\n",
      "valid vertebra v1 precision: 0.4858490570487718\n",
      "valid vertebra v2 precision: 0.8645723317604418\n"
     ]
    },
    {
     "name": "stderr",
     "output_type": "stream",
     "text": [
      "100%|##########| 188/188 [00:46<00:00,  4.08it/s]\n",
      "100%|##########| 1020/1020 [00:18<00:00, 54.87it/s]\n"
     ]
    },
    {
     "name": "stdout",
     "output_type": "stream",
     "text": [
      "step 5640 train NullLoss: 0.00947966706007719\n",
      "valid macro precision: 0.4853740707070182\n",
      "valid avg key point acc: 0.8476638457972105\n",
      "valid disc v1 precision: 0.7117969117790253\n",
      "valid disc v2 precision: 0.5728301875799217\n",
      "valid disc v3 precision: 0.29831933196808125\n",
      "valid disc v4 precision: 0.4072727340165284\n",
      "valid disc v5 precision: 0.082191795130418\n",
      "valid macro f1: 0.5534521454247128\n",
      "valid micro f1: 0.7177142822308572\n",
      "valid vertebra v1 precision: 0.4348508654677907\n",
      "valid vertebra v2 precision: 0.8903566690073624\n"
     ]
    },
    {
     "name": "stderr",
     "output_type": "stream",
     "text": [
      "100%|##########| 188/188 [00:46<00:00,  4.07it/s]\n",
      "100%|##########| 1020/1020 [00:18<00:00, 54.48it/s]\n"
     ]
    },
    {
     "name": "stdout",
     "output_type": "stream",
     "text": [
      "step 5828 train NullLoss: 0.009328084997832775\n",
      "valid macro precision: 0.4642391226222441\n",
      "valid avg key point acc: 0.847404708174565\n",
      "valid disc v1 precision: 0.7825443759117912\n",
      "valid disc v2 precision: 0.37211155582292343\n",
      "valid disc v3 precision: 0.5845147200760148\n",
      "valid disc v4 precision: 0.017421636416610705\n",
      "valid disc v5 precision: 0.09967321569695375\n",
      "valid macro f1: 0.5087340495482019\n",
      "valid micro f1: 0.7135977952414938\n",
      "valid vertebra v1 precision: 0.5290423852733945\n",
      "valid vertebra v2 precision: 0.8643659691580206\n"
     ]
    },
    {
     "name": "stderr",
     "output_type": "stream",
     "text": [
      " 44%|####3     | 82/188 [00:20<00:26,  3.94it/s]\n"
     ]
    },
    {
     "ename": "KeyboardInterrupt",
     "evalue": "",
     "output_type": "error",
     "traceback": [
      "\u001b[0;31m---------------------------------------------------------------------------\u001b[0m",
      "\u001b[0;31mKeyboardInterrupt\u001b[0m                         Traceback (most recent call last)",
      "\u001b[0;32m~/data/projects/nn_tools/nn_tools/torch_utils.py\u001b[0m in \u001b[0;36mfit\u001b[0;34m(module, train_data, valid_data, optimizer, max_step, loss, metrics, is_higher_better, evaluate_per_steps, early_stopping, scheduler, init_metric_value, evaluate_fn, checkpoint_dir)\u001b[0m\n\u001b[1;32m     66\u001b[0m                 \u001b[0;32mif\u001b[0m \u001b[0mloss_value\u001b[0m \u001b[0;32mis\u001b[0m \u001b[0;32mnot\u001b[0m \u001b[0;32mNone\u001b[0m\u001b[0;34m:\u001b[0m\u001b[0;34m\u001b[0m\u001b[0;34m\u001b[0m\u001b[0m\n\u001b[0;32m---> 67\u001b[0;31m                     \u001b[0mloss_value\u001b[0m\u001b[0;34m.\u001b[0m\u001b[0mbackward\u001b[0m\u001b[0;34m(\u001b[0m\u001b[0;34m)\u001b[0m\u001b[0;34m\u001b[0m\u001b[0;34m\u001b[0m\u001b[0m\n\u001b[0m\u001b[1;32m     68\u001b[0m                     \u001b[0moptimizer\u001b[0m\u001b[0;34m.\u001b[0m\u001b[0mstep\u001b[0m\u001b[0;34m(\u001b[0m\u001b[0;34m)\u001b[0m\u001b[0;34m\u001b[0m\u001b[0;34m\u001b[0m\u001b[0m\n",
      "\u001b[0;32m~/anaconda3/envs/torch15/lib/python3.8/site-packages/torch/tensor.py\u001b[0m in \u001b[0;36mbackward\u001b[0;34m(self, gradient, retain_graph, create_graph)\u001b[0m\n\u001b[1;32m    197\u001b[0m         \"\"\"\n\u001b[0;32m--> 198\u001b[0;31m         \u001b[0mtorch\u001b[0m\u001b[0;34m.\u001b[0m\u001b[0mautograd\u001b[0m\u001b[0;34m.\u001b[0m\u001b[0mbackward\u001b[0m\u001b[0;34m(\u001b[0m\u001b[0mself\u001b[0m\u001b[0;34m,\u001b[0m \u001b[0mgradient\u001b[0m\u001b[0;34m,\u001b[0m \u001b[0mretain_graph\u001b[0m\u001b[0;34m,\u001b[0m \u001b[0mcreate_graph\u001b[0m\u001b[0;34m)\u001b[0m\u001b[0;34m\u001b[0m\u001b[0;34m\u001b[0m\u001b[0m\n\u001b[0m\u001b[1;32m    199\u001b[0m \u001b[0;34m\u001b[0m\u001b[0m\n",
      "\u001b[0;32m~/anaconda3/envs/torch15/lib/python3.8/site-packages/torch/autograd/__init__.py\u001b[0m in \u001b[0;36mbackward\u001b[0;34m(tensors, grad_tensors, retain_graph, create_graph, grad_variables)\u001b[0m\n\u001b[1;32m     97\u001b[0m \u001b[0;34m\u001b[0m\u001b[0m\n\u001b[0;32m---> 98\u001b[0;31m     Variable._execution_engine.run_backward(\n\u001b[0m\u001b[1;32m     99\u001b[0m         \u001b[0mtensors\u001b[0m\u001b[0;34m,\u001b[0m \u001b[0mgrad_tensors\u001b[0m\u001b[0;34m,\u001b[0m \u001b[0mretain_graph\u001b[0m\u001b[0;34m,\u001b[0m \u001b[0mcreate_graph\u001b[0m\u001b[0;34m,\u001b[0m\u001b[0;34m\u001b[0m\u001b[0;34m\u001b[0m\u001b[0m\n",
      "\u001b[0;31mKeyboardInterrupt\u001b[0m: ",
      "\nDuring handling of the above exception, another exception occurred:\n",
      "\u001b[0;31mKeyboardInterrupt\u001b[0m                         Traceback (most recent call last)",
      "\u001b[0;32m<ipython-input-15-70878c9acbf3>\u001b[0m in \u001b[0;36m<module>\u001b[0;34m\u001b[0m\n\u001b[1;32m      3\u001b[0m \u001b[0moptimizer\u001b[0m \u001b[0;34m=\u001b[0m \u001b[0mtorch\u001b[0m\u001b[0;34m.\u001b[0m\u001b[0moptim\u001b[0m\u001b[0;34m.\u001b[0m\u001b[0mAdamW\u001b[0m\u001b[0;34m(\u001b[0m\u001b[0mdis_model\u001b[0m\u001b[0;34m.\u001b[0m\u001b[0mparameters\u001b[0m\u001b[0;34m(\u001b[0m\u001b[0;34m)\u001b[0m\u001b[0;34m,\u001b[0m \u001b[0mlr\u001b[0m\u001b[0;34m=\u001b[0m\u001b[0;36m1e-5\u001b[0m\u001b[0;34m)\u001b[0m\u001b[0;34m\u001b[0m\u001b[0;34m\u001b[0m\u001b[0m\n\u001b[1;32m      4\u001b[0m \u001b[0mmax_step\u001b[0m \u001b[0;34m=\u001b[0m \u001b[0;36m50\u001b[0m\u001b[0;34m*\u001b[0m\u001b[0mlen\u001b[0m\u001b[0;34m(\u001b[0m\u001b[0mtrain_dataloader\u001b[0m\u001b[0;34m)\u001b[0m\u001b[0;34m\u001b[0m\u001b[0;34m\u001b[0m\u001b[0m\n\u001b[0;32m----> 5\u001b[0;31m fit_result = torch_utils.fit(\n\u001b[0m\u001b[1;32m      6\u001b[0m     \u001b[0mdis_model\u001b[0m\u001b[0;34m,\u001b[0m\u001b[0;34m\u001b[0m\u001b[0;34m\u001b[0m\u001b[0m\n\u001b[1;32m      7\u001b[0m     \u001b[0mtrain_data\u001b[0m\u001b[0;34m=\u001b[0m\u001b[0mtrain_dataloader\u001b[0m\u001b[0;34m,\u001b[0m\u001b[0;34m\u001b[0m\u001b[0;34m\u001b[0m\u001b[0m\n",
      "\u001b[0;32m~/data/projects/nn_tools/nn_tools/torch_utils.py\u001b[0m in \u001b[0;36mfit\u001b[0;34m(module, train_data, valid_data, optimizer, max_step, loss, metrics, is_higher_better, evaluate_per_steps, early_stopping, scheduler, init_metric_value, evaluate_fn, checkpoint_dir)\u001b[0m\n\u001b[1;32m     91\u001b[0m                 \u001b[0;32mbreak\u001b[0m\u001b[0;34m\u001b[0m\u001b[0;34m\u001b[0m\u001b[0m\n\u001b[1;32m     92\u001b[0m     \u001b[0;32mexcept\u001b[0m \u001b[0mKeyboardInterrupt\u001b[0m\u001b[0;34m:\u001b[0m\u001b[0;34m\u001b[0m\u001b[0;34m\u001b[0m\u001b[0m\n\u001b[0;32m---> 93\u001b[0;31m         \u001b[0;32mraise\u001b[0m \u001b[0mKeyboardInterrupt\u001b[0m\u001b[0;34m\u001b[0m\u001b[0;34m\u001b[0m\u001b[0m\n\u001b[0m\u001b[1;32m     94\u001b[0m     \u001b[0;32mfinally\u001b[0m\u001b[0;34m:\u001b[0m\u001b[0;34m\u001b[0m\u001b[0;34m\u001b[0m\u001b[0m\n\u001b[1;32m     95\u001b[0m         \u001b[0mmodule\u001b[0m\u001b[0;34m.\u001b[0m\u001b[0mload_state_dict\u001b[0m\u001b[0;34m(\u001b[0m\u001b[0mbest_state_dict\u001b[0m\u001b[0;34m)\u001b[0m\u001b[0;34m\u001b[0m\u001b[0;34m\u001b[0m\u001b[0m\n",
      "\u001b[0;31mKeyboardInterrupt\u001b[0m: "
     ]
    }
   ],
   "source": [
    "evaluator = Evaluator(dis_model, valid_studies, '../data/lumbar_train51_annotation.json',\n",
    "                      num_rep=20, metric='macro precision')\n",
    "optimizer = torch.optim.AdamW(dis_model.parameters(), lr=1e-5)\n",
    "max_step = 50*len(train_dataloader)\n",
    "fit_result = torch_utils.fit(\n",
    "    dis_model,\n",
    "    train_data=train_dataloader,\n",
    "    valid_data=None,\n",
    "    optimizer=optimizer,\n",
    "    max_step=max_step,\n",
    "    loss=NullLoss(),\n",
    "    metrics=[NullLoss()],\n",
    "    is_higher_better=True,\n",
    "    evaluate_per_steps=len(train_dataloader),\n",
    "    evaluate_fn=evaluator,\n",
    "    checkpoint_dir='../models',\n",
    "#     early_stopping=5*len(train_dataloader),\n",
    ")"
   ]
  },
  {
   "cell_type": "code",
   "execution_count": 16,
   "metadata": {},
   "outputs": [
    {
     "name": "stderr",
     "output_type": "stream",
     "text": [
      "/home/cxt/anaconda3/envs/torch15/lib/python3.8/site-packages/torch/serialization.py:657: SourceChangeWarning: source code of class 'core.key_point.model.KeyPointModel' has changed. you can retrieve the original source code by accessing the object's source attribute or set `torch.nn.Module.dump_patches = True` and use the patch tool to revert the changes.\n",
      "  warnings.warn(msg, SourceChangeWarning)\n"
     ]
    }
   ],
   "source": [
    "dis_model.kp_model = torch.load('../models/size512_rotate1_180_AdamW_1e-5.kp_model', map_location='cuda:0')"
   ]
  },
  {
   "cell_type": "code",
   "execution_count": 22,
   "metadata": {},
   "outputs": [],
   "source": [
    "torch.save(dis_model.cpu(), '../models/2020070102.dis_model')"
   ]
  },
  {
   "cell_type": "code",
   "execution_count": 17,
   "metadata": {},
   "outputs": [
    {
     "name": "stderr",
     "output_type": "stream",
     "text": [
      "100%|##########| 1020/1020 [00:36<00:00, 27.92it/s]\n"
     ]
    },
    {
     "data": {
      "text/plain": [
       "[('macro precision', 0.5431561827905897),\n",
       " ('avg key point acc', 0.8748156364852632),\n",
       " ('disc v1 precision', 0.7095078814189405),\n",
       " ('disc v2 precision', 0.5374617731274959),\n",
       " ('disc v3 precision', 0.33943089757254274),\n",
       " ('disc v4 precision', 0.5036231881432472),\n",
       " ('disc v5 precision', 0.16588420451066654),\n",
       " ('macro f1', 0.621341299579327),\n",
       " ('micro f1', 0.7233316229997807),\n",
       " ('vertebra v1 precision', 0.760670723760039),\n",
       " ('vertebra v2 precision', 0.7855146110011965)]"
      ]
     },
     "execution_count": 17,
     "metadata": {},
     "output_type": "execute_result"
    }
   ],
   "source": [
    "evaluator()"
   ]
  },
  {
   "cell_type": "code",
   "execution_count": null,
   "metadata": {},
   "outputs": [],
   "source": [
    "# evaluator = Evaluator(dis_model, train_studies, '../data/lumbar_train150_annotation.json', num_rep=3)\n",
    "# evaluator()"
   ]
  },
  {
   "cell_type": "code",
   "execution_count": 18,
   "metadata": {
    "scrolled": true
   },
   "outputs": [
    {
     "name": "stderr",
     "output_type": "stream",
     "text": [
      "100%|##########| 50/50 [00:34<00:00,  1.43it/s]\n"
     ]
    }
   ],
   "source": [
    "testA_studies = construct_studies('../data/lumbar_testA50/')"
   ]
  },
  {
   "cell_type": "code",
   "execution_count": 19,
   "metadata": {},
   "outputs": [
    {
     "name": "stderr",
     "output_type": "stream",
     "text": [
      "100%|##########| 50/50 [00:01<00:00, 27.12it/s]\n"
     ]
    }
   ],
   "source": [
    "result = []\n",
    "for study in tqdm(testA_studies.values(), ascii=True):\n",
    "    result.append(dis_model.eval()(study, True))"
   ]
  },
  {
   "cell_type": "code",
   "execution_count": null,
   "metadata": {
    "scrolled": false
   },
   "outputs": [],
   "source": [
    "i = 9\n",
    "visilize_annotation(testA_studies[result[i]['studyUid']].t2_sagittal_middle_frame.image, result[i])"
   ]
  },
  {
   "cell_type": "code",
   "execution_count": 20,
   "metadata": {},
   "outputs": [],
   "source": [
    "with open('../predictions/2020070102.json', 'w') as file:\n",
    "    json.dump(result, file)\n",
    "    "
   ]
  }
 ],
 "metadata": {
  "kernelspec": {
   "display_name": "torch15",
   "language": "python",
   "name": "torch15"
  },
  "language_info": {
   "codemirror_mode": {
    "name": "ipython",
    "version": 3
   },
   "file_extension": ".py",
   "mimetype": "text/x-python",
   "name": "python",
   "nbconvert_exporter": "python",
   "pygments_lexer": "ipython3",
   "version": "3.8.3"
  }
 },
 "nbformat": 4,
 "nbformat_minor": 4
}
